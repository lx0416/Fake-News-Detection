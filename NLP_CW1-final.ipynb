{
 "cells": [
  {
   "cell_type": "markdown",
   "id": "b06c2025",
   "metadata": {},
   "source": [
    "# Introduction"
   ]
  },
  {
   "cell_type": "markdown",
   "id": "4ed810a0",
   "metadata": {},
   "source": [
    "## 1. Domain-specific area"
   ]
  },
  {
   "cell_type": "markdown",
   "id": "f8114efa",
   "metadata": {},
   "source": [
    "The problem of fake news is ever more prevalent. Fake news refers to false news stories, information that is fabricated, \"with no verifiable facts, sources or quotes\". *(University of Michigan Library Research Guides, 2022)*\n",
    "\n",
    "Fake news is becoming increasingly difficult to prevent. With the rise of social media today, it has become a source of news and information for many. *(AMERICAN VIEWS: TRUST, MEDIA AND DEMOCRACY, 2018)*\n",
    "\n",
    "Aside from social media, traditional media is also a source of information, as well as friends and family. Many would trust the news shared by friends or family, but it is always good to be wary of fake news. *(YouGov Staff, 2017)*\n",
    "\n",
    "The spread of fake news may result in the mistrust of the media. It is up to us and is our responsibility to be careful of the information we share. \n",
    "\n",
    "Users of social media can quickly spread fake news at a click of a button, and without consequence. It is thus crucial to identify fake news from real and regulate the spread of such fake news. Furthermore, it is imperative to educate the masses about the negative consequences of spreading fake news. \n",
    "In the event where fake news took the country by storm, there can be negative consequences. The election period is a prime example, exploiting the adverse effect of spreading fake news to influence votes. One such example is the 2020 U.S. Presidential Election. \n",
    "\"In Arizona and Michigan, there was #SharpieGate, whereby social media users claimed that ballots voted with Sharpie pens would not be counted. The rumour was clarified by election officials, which stated that votes with Sharpie pens would still be counted.\" Regardless, #SharpieGate on social media has a widespread outreach and resulted in the \"harassment of polling station workers\". *(The Age of Fake News: How fake news marred the 2020 U.S. Presidential Election : Center for Digital Society, 2021)*\n",
    "\n",
    "In addition, \"a global study by Kantar on people’s trust in news found that 70% of people reconsidered sharing an article as they were worried that it might be fake news.\" *(Soon and Goh, 2021)*\n",
    "\n",
    "From this, we can infer that people from all over the world, regardless of race or religion, may not be confident in identifying fake news from real ones. \n",
    "\n",
    "Fake news is a problem that needs to be addressed, due to the numerous negative impact it can have on the public. Thus, this area of industry is where text classification methods can contribute."
   ]
  },
  {
   "cell_type": "markdown",
   "id": "260d240d",
   "metadata": {},
   "source": [
    "## 2. Objectives"
   ]
  },
  {
   "cell_type": "markdown",
   "id": "fd957018",
   "metadata": {},
   "source": [
    "With advancements in technology, there are increasingly more ways to identify fake news, such as using machine learning methods or natural language processing. \n",
    "This project aims to identify fake news from real. As stated above, the spread of fake news is becoming more prevalent, regardless of the underlying intention. It is increasingly more difficult to prevent the spread. Thus, it is imperative to swiftly address this problem. The reason for this project is to avert potential crises and to ensure peace and stability. As with the 2020 U.S. Presidential Election, there were many victims from the spread of fake news. The siege of the U.S. Capitol on January 6 in particular, may possibly have been prevented, or at the very least, reduced the number of casualties, if there was a system to regulate sharing of (mis)information. \"According to the Justice Department, about 140 police officers were injured while defending the Capitol.\" *(Wolfe, 2022)*\n",
    "\n",
    "The incident could have been anticipated and counteract had social media platforms been prudent in filtering the misinformation, such as Facebook. According to the Washington Post, there was clear evidence that \"Facebook played a critical role in the spread of false narratives that fomented the violence of Jan. 6.\" It was too late by the time Facebook took action to police and regulate the content. Said content included \"calling for violent confrontation with government officials\", which could have foreshadowed the siege of the Capitol on the same day. This incident resulted in five people dead. *(Silverman, Timberg, Kao and B. Merrill, 2022)*\n",
    "\n",
    "It is with this in mind that this project could hope to prevent similar incidents in the future. This project uses classification algorithms to classify real and fake news. By analyzing the titles and its content, this will increase the effectiveness of the classifier and improve the prediction of fake and real news. The contribution of this project is to show that there are discrepancies between real and fake news, and by employing text classification methods, improves the decision-making process. This solution proves to be necessary as the outreach of social media is becoming more widespread, which means the dissemination of information is growing ever more, with a higher potential to harm society. \n",
    "\n",
    "Thus, with hope, this project could possibly easily identify fake news and prevent the spread, before the situation gets out of hand. As for the presidential elections, the root of the problem stems from the fake news being spread. It is with high hopes that this will reduce the spread of false information and renew voters' confidence in the election system, and encourage everyone to vote.\n",
    "However, it is important to note that there is only so much that regulating content can do. With large number of posts made every day, it takes a lot of manpower to quell the surge of misinformation. It is ultimately up to us to decide for ourselves on what to share."
   ]
  },
  {
   "cell_type": "markdown",
   "id": "11a0a4ec",
   "metadata": {},
   "source": [
    "## 3. Dataset"
   ]
  },
  {
   "cell_type": "markdown",
   "id": "4102376f",
   "metadata": {},
   "source": [
    "The dataset chosen is Kaggle's Fake and real news dataset (https://www.kaggle.com/datasets/clmentbisaillon/fake-and-real-news-dataset). The dataset available on Kaggle was published by Clément Bisaillon and is visible to the public. \n",
    "The dataset contains two .csv files, True.csv contains a list of articles considered as real news and Fake.csv \"contains a list of articles considered as \"fake\" news\". Each file contains four columns, namely: title, text, subject and date. The dataset can be downloaded on Kaggle, and is 43MB large, as can seen on the website at the moment of writing. The number of records is 21417 in True.csv and 23481 in Fake.csv. However, on Kaggle, Fake.csv supposedly has 17903 unique titles, as compared to the csv file. Thus, we can infer that some cleaning has to be done to filter out the duplicate rows. The four columns of data are of different data types. Title, text and subject are represented as strings while date is of DateTime data type. The way the data were acquired is through real world sources; the truthful articles were obtained by \"crawling articles from Reuters.com\", a legitimate News website, and \"the fake news articles were collected from unreliable websites that were flagged by Politifact, a fact-checking organization in the USA, and Wikipedia.\" (H, I and S, 2018)"
   ]
  },
  {
   "cell_type": "markdown",
   "id": "ba4b1db6",
   "metadata": {},
   "source": [
    "## 4. Evaluation methodology"
   ]
  },
  {
   "cell_type": "markdown",
   "id": "e02d38a6",
   "metadata": {},
   "source": [
    "The evaluation methodology will be accuracy. Accuracy is the fraction of predictions our model gets correct. It is calculated by the (number of correct predictions)/(total number of predictions). \n",
    "In this case, since there are two classes, it will be classified as a binary classification, and for binary classification, accuracy can be calculated in terms of positives and negatives. It is denoted by (TP + TN)/(TP + TN + FP + FN), where TP are True Positives, TN are True Negatives, FP are False Positives and FN are False Negatives. For binary classification, since there are two classes, the confusion matrix will be 2x2. For instance, given the confusion matrix:\n",
    "\n",
    "            0    1\n",
    "    0    [[4254, 243],\n",
    "    1     [289, 4991]]\n",
    "\n",
    "We can calculate accuracy: (4991 + 4254)/(4254 + 243 + 289 + 4991) = 9245/9777 = 0.946\n",
    "\n",
    "Accuracy will be a floating-point value between 0 and 1. The higher the accuracy, the more correct predictions there are.\n",
    "\n",
    "To evaluate model performance, we will split our dataset into training set and test set. In this case, in our fake and real news dataset, we have a total of 39,105 data after cleaning. Of this 39,105, 25% (9777) will be used as the test set, while the rest (29328) will be used as the training data. \n",
    "After the process of splitting, we will first train the model using the training data and use the trained model to predict the test data. Then, we can evaluate the model by generating the accuracy and comparing the accuracy of the baseline model to the chosen classification model, which will be Naive Bayes to Random Forest. "
   ]
  },
  {
   "cell_type": "markdown",
   "id": "f7af58e7",
   "metadata": {},
   "source": [
    "# Implementation"
   ]
  },
  {
   "cell_type": "markdown",
   "id": "d808ec3c",
   "metadata": {},
   "source": [
    "## 5. Preprocessing "
   ]
  },
  {
   "cell_type": "markdown",
   "id": "d124db5c",
   "metadata": {},
   "source": [
    "Firstly, we import the csv files using pandas and display them in a DataFrame, for ease and convenience of cleaning and preprocessing the data. It is also commonly used as a data type for training and evaluating models. Then, the next preprocessing steps are summarised as seen below.\n",
    "\n",
    "Steps: \n",
    "1. Drop subject and date columns from the dataset, since we are more concerned with classifying fake and real news rather than news topics\n",
    "2. Drop any duplicates from the dataset\n",
    "3. Add a class column for indicating whether it is real or fake news. For fake news, it will have a class indicator of 0 and real news an indicator of 1\n",
    "4. Check for any null values\n",
    "5. Combine both fake and real news datasets into one whole dataset\n",
    "6. Check for any duplicates in the combined dataset, in the unforeseen event where there are news indicated as fake and real at the same time; the dataset might not be pure\n",
    "7. Combine both title and text columns into a new column, and dropping the two\n",
    "8. Create our own stopwords dictionary, incorporating nltk's and Coursera's stopwords\n",
    "9. Preprocess the title and text column:\n",
    "    1. Convert the sentences to lowercase\n",
    "    2. Remove digits, special characters and punctuation from the sentences\n",
    "    3. Tokenize the sentences\n",
    "    4. Retains the words whose length is more than 3 and are not stopwords\n",
    "    5. Lemmatize the selected words and append them to the array to be returned\n",
    "10. Create a new column named preprocessed after applying the preprocessing method\n",
    "11. Create another column for joining the tokens into sentences after preprocessing\n",
    "12. Shuffle the dataset to be used for training the model\n",
    "13. Generate a WordCloud for visual representation of the most common bigrams\n",
    "14. Word embedding\n",
    "15. Bag of Words\n",
    "16. Splitting data for training and testing models"
   ]
  },
  {
   "cell_type": "markdown",
   "id": "30b2ea64",
   "metadata": {},
   "source": [
    "### Import libraries"
   ]
  },
  {
   "cell_type": "code",
   "execution_count": 1,
   "id": "f44e17f1",
   "metadata": {},
   "outputs": [],
   "source": [
    "import pandas as pd\n",
    "import csv\n",
    "import re\n",
    "import nltk\n",
    "from wordcloud import WordCloud\n",
    "import matplotlib.pyplot as plt\n",
    "from nltk.stem import WordNetLemmatizer\n",
    "from sklearn.model_selection import train_test_split\n",
    "from sklearn.linear_model import LogisticRegression\n",
    "from sklearn.feature_extraction.text import CountVectorizer, TfidfVectorizer\n",
    "from sklearn.metrics import classification_report, confusion_matrix, accuracy_score\n",
    "from sklearn.naive_bayes import MultinomialNB\n",
    "from sklearn.feature_extraction.text import TfidfTransformer\n",
    "from sklearn.ensemble import RandomForestClassifier"
   ]
  },
  {
   "cell_type": "markdown",
   "id": "e4d082a2",
   "metadata": {},
   "source": [
    "### Clean data"
   ]
  },
  {
   "cell_type": "code",
   "execution_count": 2,
   "id": "a51b21b1",
   "metadata": {},
   "outputs": [
    {
     "data": {
      "text/html": [
       "<div>\n",
       "<style scoped>\n",
       "    .dataframe tbody tr th:only-of-type {\n",
       "        vertical-align: middle;\n",
       "    }\n",
       "\n",
       "    .dataframe tbody tr th {\n",
       "        vertical-align: top;\n",
       "    }\n",
       "\n",
       "    .dataframe thead th {\n",
       "        text-align: right;\n",
       "    }\n",
       "</style>\n",
       "<table border=\"1\" class=\"dataframe\">\n",
       "  <thead>\n",
       "    <tr style=\"text-align: right;\">\n",
       "      <th></th>\n",
       "      <th>title</th>\n",
       "      <th>text</th>\n",
       "      <th>subject</th>\n",
       "      <th>date</th>\n",
       "    </tr>\n",
       "  </thead>\n",
       "  <tbody>\n",
       "    <tr>\n",
       "      <th>0</th>\n",
       "      <td>As U.S. budget fight looms, Republicans flip t...</td>\n",
       "      <td>WASHINGTON (Reuters) - The head of a conservat...</td>\n",
       "      <td>politicsNews</td>\n",
       "      <td>December 31, 2017</td>\n",
       "    </tr>\n",
       "    <tr>\n",
       "      <th>1</th>\n",
       "      <td>U.S. military to accept transgender recruits o...</td>\n",
       "      <td>WASHINGTON (Reuters) - Transgender people will...</td>\n",
       "      <td>politicsNews</td>\n",
       "      <td>December 29, 2017</td>\n",
       "    </tr>\n",
       "    <tr>\n",
       "      <th>2</th>\n",
       "      <td>Senior U.S. Republican senator: 'Let Mr. Muell...</td>\n",
       "      <td>WASHINGTON (Reuters) - The special counsel inv...</td>\n",
       "      <td>politicsNews</td>\n",
       "      <td>December 31, 2017</td>\n",
       "    </tr>\n",
       "    <tr>\n",
       "      <th>3</th>\n",
       "      <td>FBI Russia probe helped by Australian diplomat...</td>\n",
       "      <td>WASHINGTON (Reuters) - Trump campaign adviser ...</td>\n",
       "      <td>politicsNews</td>\n",
       "      <td>December 30, 2017</td>\n",
       "    </tr>\n",
       "    <tr>\n",
       "      <th>4</th>\n",
       "      <td>Trump wants Postal Service to charge 'much mor...</td>\n",
       "      <td>SEATTLE/WASHINGTON (Reuters) - President Donal...</td>\n",
       "      <td>politicsNews</td>\n",
       "      <td>December 29, 2017</td>\n",
       "    </tr>\n",
       "    <tr>\n",
       "      <th>...</th>\n",
       "      <td>...</td>\n",
       "      <td>...</td>\n",
       "      <td>...</td>\n",
       "      <td>...</td>\n",
       "    </tr>\n",
       "    <tr>\n",
       "      <th>21412</th>\n",
       "      <td>'Fully committed' NATO backs new U.S. approach...</td>\n",
       "      <td>BRUSSELS (Reuters) - NATO allies on Tuesday we...</td>\n",
       "      <td>worldnews</td>\n",
       "      <td>August 22, 2017</td>\n",
       "    </tr>\n",
       "    <tr>\n",
       "      <th>21413</th>\n",
       "      <td>LexisNexis withdrew two products from Chinese ...</td>\n",
       "      <td>LONDON (Reuters) - LexisNexis, a provider of l...</td>\n",
       "      <td>worldnews</td>\n",
       "      <td>August 22, 2017</td>\n",
       "    </tr>\n",
       "    <tr>\n",
       "      <th>21414</th>\n",
       "      <td>Minsk cultural hub becomes haven from authorities</td>\n",
       "      <td>MINSK (Reuters) - In the shadow of disused Sov...</td>\n",
       "      <td>worldnews</td>\n",
       "      <td>August 22, 2017</td>\n",
       "    </tr>\n",
       "    <tr>\n",
       "      <th>21415</th>\n",
       "      <td>Vatican upbeat on possibility of Pope Francis ...</td>\n",
       "      <td>MOSCOW (Reuters) - Vatican Secretary of State ...</td>\n",
       "      <td>worldnews</td>\n",
       "      <td>August 22, 2017</td>\n",
       "    </tr>\n",
       "    <tr>\n",
       "      <th>21416</th>\n",
       "      <td>Indonesia to buy $1.14 billion worth of Russia...</td>\n",
       "      <td>JAKARTA (Reuters) - Indonesia will buy 11 Sukh...</td>\n",
       "      <td>worldnews</td>\n",
       "      <td>August 22, 2017</td>\n",
       "    </tr>\n",
       "  </tbody>\n",
       "</table>\n",
       "<p>21417 rows × 4 columns</p>\n",
       "</div>"
      ],
      "text/plain": [
       "                                                   title  \\\n",
       "0      As U.S. budget fight looms, Republicans flip t...   \n",
       "1      U.S. military to accept transgender recruits o...   \n",
       "2      Senior U.S. Republican senator: 'Let Mr. Muell...   \n",
       "3      FBI Russia probe helped by Australian diplomat...   \n",
       "4      Trump wants Postal Service to charge 'much mor...   \n",
       "...                                                  ...   \n",
       "21412  'Fully committed' NATO backs new U.S. approach...   \n",
       "21413  LexisNexis withdrew two products from Chinese ...   \n",
       "21414  Minsk cultural hub becomes haven from authorities   \n",
       "21415  Vatican upbeat on possibility of Pope Francis ...   \n",
       "21416  Indonesia to buy $1.14 billion worth of Russia...   \n",
       "\n",
       "                                                    text       subject  \\\n",
       "0      WASHINGTON (Reuters) - The head of a conservat...  politicsNews   \n",
       "1      WASHINGTON (Reuters) - Transgender people will...  politicsNews   \n",
       "2      WASHINGTON (Reuters) - The special counsel inv...  politicsNews   \n",
       "3      WASHINGTON (Reuters) - Trump campaign adviser ...  politicsNews   \n",
       "4      SEATTLE/WASHINGTON (Reuters) - President Donal...  politicsNews   \n",
       "...                                                  ...           ...   \n",
       "21412  BRUSSELS (Reuters) - NATO allies on Tuesday we...     worldnews   \n",
       "21413  LONDON (Reuters) - LexisNexis, a provider of l...     worldnews   \n",
       "21414  MINSK (Reuters) - In the shadow of disused Sov...     worldnews   \n",
       "21415  MOSCOW (Reuters) - Vatican Secretary of State ...     worldnews   \n",
       "21416  JAKARTA (Reuters) - Indonesia will buy 11 Sukh...     worldnews   \n",
       "\n",
       "                     date  \n",
       "0      December 31, 2017   \n",
       "1      December 29, 2017   \n",
       "2      December 31, 2017   \n",
       "3      December 30, 2017   \n",
       "4      December 29, 2017   \n",
       "...                   ...  \n",
       "21412    August 22, 2017   \n",
       "21413    August 22, 2017   \n",
       "21414    August 22, 2017   \n",
       "21415    August 22, 2017   \n",
       "21416    August 22, 2017   \n",
       "\n",
       "[21417 rows x 4 columns]"
      ]
     },
     "execution_count": 2,
     "metadata": {},
     "output_type": "execute_result"
    }
   ],
   "source": [
    "# Instantiate the two csv files into two dataframes\n",
    "fake_df = pd.read_csv('Fake.csv')\n",
    "true_df = pd.read_csv('True.csv')\n",
    "true_df"
   ]
  },
  {
   "cell_type": "code",
   "execution_count": 3,
   "id": "b4a0188c",
   "metadata": {},
   "outputs": [],
   "source": [
    "# Drop irrelevant columns for both dataframes\n",
    "true_df = true_df.drop(columns=['subject', 'date'])\n",
    "fake_df = fake_df.drop(columns=['subject', 'date'])"
   ]
  },
  {
   "cell_type": "code",
   "execution_count": 4,
   "id": "dd19c568",
   "metadata": {},
   "outputs": [
    {
     "name": "stdout",
     "output_type": "stream",
     "text": [
      "true_df (before): 21417\n",
      "true_df (after): 21197\n",
      "fake_df (before): 23481\n",
      "fake_df (after): 17908\n"
     ]
    }
   ],
   "source": [
    "# Drop duplicates for both dataframes\n",
    "print(\"true_df (before):\", len(true_df))\n",
    "true_df = true_df.drop_duplicates()\n",
    "print(\"true_df (after):\", len(true_df))\n",
    "\n",
    "print(\"fake_df (before):\", len(fake_df))\n",
    "fake_df = fake_df.drop_duplicates()\n",
    "print(\"fake_df (after):\", len(fake_df))"
   ]
  },
  {
   "cell_type": "code",
   "execution_count": 5,
   "id": "1fee2b42",
   "metadata": {},
   "outputs": [],
   "source": [
    "# Assigning a class value to both dataframes\n",
    "# Assign 0 for fake; 1 for true\n",
    "\n",
    "fake_df['class'] = 0\n",
    "true_df['class'] = 1"
   ]
  },
  {
   "cell_type": "code",
   "execution_count": 6,
   "id": "a304104a",
   "metadata": {},
   "outputs": [
    {
     "data": {
      "text/html": [
       "<div>\n",
       "<style scoped>\n",
       "    .dataframe tbody tr th:only-of-type {\n",
       "        vertical-align: middle;\n",
       "    }\n",
       "\n",
       "    .dataframe tbody tr th {\n",
       "        vertical-align: top;\n",
       "    }\n",
       "\n",
       "    .dataframe thead th {\n",
       "        text-align: right;\n",
       "    }\n",
       "</style>\n",
       "<table border=\"1\" class=\"dataframe\">\n",
       "  <thead>\n",
       "    <tr style=\"text-align: right;\">\n",
       "      <th></th>\n",
       "      <th>title</th>\n",
       "      <th>text</th>\n",
       "      <th>class</th>\n",
       "    </tr>\n",
       "  </thead>\n",
       "  <tbody>\n",
       "    <tr>\n",
       "      <th>0</th>\n",
       "      <td>As U.S. budget fight looms, Republicans flip t...</td>\n",
       "      <td>WASHINGTON (Reuters) - The head of a conservat...</td>\n",
       "      <td>1</td>\n",
       "    </tr>\n",
       "    <tr>\n",
       "      <th>1</th>\n",
       "      <td>U.S. military to accept transgender recruits o...</td>\n",
       "      <td>WASHINGTON (Reuters) - Transgender people will...</td>\n",
       "      <td>1</td>\n",
       "    </tr>\n",
       "    <tr>\n",
       "      <th>2</th>\n",
       "      <td>Senior U.S. Republican senator: 'Let Mr. Muell...</td>\n",
       "      <td>WASHINGTON (Reuters) - The special counsel inv...</td>\n",
       "      <td>1</td>\n",
       "    </tr>\n",
       "    <tr>\n",
       "      <th>3</th>\n",
       "      <td>FBI Russia probe helped by Australian diplomat...</td>\n",
       "      <td>WASHINGTON (Reuters) - Trump campaign adviser ...</td>\n",
       "      <td>1</td>\n",
       "    </tr>\n",
       "    <tr>\n",
       "      <th>4</th>\n",
       "      <td>Trump wants Postal Service to charge 'much mor...</td>\n",
       "      <td>SEATTLE/WASHINGTON (Reuters) - President Donal...</td>\n",
       "      <td>1</td>\n",
       "    </tr>\n",
       "    <tr>\n",
       "      <th>...</th>\n",
       "      <td>...</td>\n",
       "      <td>...</td>\n",
       "      <td>...</td>\n",
       "    </tr>\n",
       "    <tr>\n",
       "      <th>21412</th>\n",
       "      <td>'Fully committed' NATO backs new U.S. approach...</td>\n",
       "      <td>BRUSSELS (Reuters) - NATO allies on Tuesday we...</td>\n",
       "      <td>1</td>\n",
       "    </tr>\n",
       "    <tr>\n",
       "      <th>21413</th>\n",
       "      <td>LexisNexis withdrew two products from Chinese ...</td>\n",
       "      <td>LONDON (Reuters) - LexisNexis, a provider of l...</td>\n",
       "      <td>1</td>\n",
       "    </tr>\n",
       "    <tr>\n",
       "      <th>21414</th>\n",
       "      <td>Minsk cultural hub becomes haven from authorities</td>\n",
       "      <td>MINSK (Reuters) - In the shadow of disused Sov...</td>\n",
       "      <td>1</td>\n",
       "    </tr>\n",
       "    <tr>\n",
       "      <th>21415</th>\n",
       "      <td>Vatican upbeat on possibility of Pope Francis ...</td>\n",
       "      <td>MOSCOW (Reuters) - Vatican Secretary of State ...</td>\n",
       "      <td>1</td>\n",
       "    </tr>\n",
       "    <tr>\n",
       "      <th>21416</th>\n",
       "      <td>Indonesia to buy $1.14 billion worth of Russia...</td>\n",
       "      <td>JAKARTA (Reuters) - Indonesia will buy 11 Sukh...</td>\n",
       "      <td>1</td>\n",
       "    </tr>\n",
       "  </tbody>\n",
       "</table>\n",
       "<p>21197 rows × 3 columns</p>\n",
       "</div>"
      ],
      "text/plain": [
       "                                                   title  \\\n",
       "0      As U.S. budget fight looms, Republicans flip t...   \n",
       "1      U.S. military to accept transgender recruits o...   \n",
       "2      Senior U.S. Republican senator: 'Let Mr. Muell...   \n",
       "3      FBI Russia probe helped by Australian diplomat...   \n",
       "4      Trump wants Postal Service to charge 'much mor...   \n",
       "...                                                  ...   \n",
       "21412  'Fully committed' NATO backs new U.S. approach...   \n",
       "21413  LexisNexis withdrew two products from Chinese ...   \n",
       "21414  Minsk cultural hub becomes haven from authorities   \n",
       "21415  Vatican upbeat on possibility of Pope Francis ...   \n",
       "21416  Indonesia to buy $1.14 billion worth of Russia...   \n",
       "\n",
       "                                                    text  class  \n",
       "0      WASHINGTON (Reuters) - The head of a conservat...      1  \n",
       "1      WASHINGTON (Reuters) - Transgender people will...      1  \n",
       "2      WASHINGTON (Reuters) - The special counsel inv...      1  \n",
       "3      WASHINGTON (Reuters) - Trump campaign adviser ...      1  \n",
       "4      SEATTLE/WASHINGTON (Reuters) - President Donal...      1  \n",
       "...                                                  ...    ...  \n",
       "21412  BRUSSELS (Reuters) - NATO allies on Tuesday we...      1  \n",
       "21413  LONDON (Reuters) - LexisNexis, a provider of l...      1  \n",
       "21414  MINSK (Reuters) - In the shadow of disused Sov...      1  \n",
       "21415  MOSCOW (Reuters) - Vatican Secretary of State ...      1  \n",
       "21416  JAKARTA (Reuters) - Indonesia will buy 11 Sukh...      1  \n",
       "\n",
       "[21197 rows x 3 columns]"
      ]
     },
     "execution_count": 6,
     "metadata": {},
     "output_type": "execute_result"
    }
   ],
   "source": [
    "true_df"
   ]
  },
  {
   "cell_type": "markdown",
   "id": "a16739a3",
   "metadata": {},
   "source": [
    "Now, let's check for any null values by combining the .isnull() and .sum() methods. By now, the data has been sufficiently cleaned. "
   ]
  },
  {
   "cell_type": "code",
   "execution_count": 7,
   "id": "7d1c6ef6",
   "metadata": {},
   "outputs": [
    {
     "data": {
      "text/plain": [
       "title    0\n",
       "text     0\n",
       "class    0\n",
       "dtype: int64"
      ]
     },
     "execution_count": 7,
     "metadata": {},
     "output_type": "execute_result"
    }
   ],
   "source": [
    "true_df.isnull().sum()"
   ]
  },
  {
   "cell_type": "code",
   "execution_count": 8,
   "id": "27db6cd7",
   "metadata": {},
   "outputs": [
    {
     "data": {
      "text/plain": [
       "title    0\n",
       "text     0\n",
       "class    0\n",
       "dtype: int64"
      ]
     },
     "execution_count": 8,
     "metadata": {},
     "output_type": "execute_result"
    }
   ],
   "source": [
    "fake_df.isnull().sum()"
   ]
  },
  {
   "cell_type": "code",
   "execution_count": 9,
   "id": "9b98599d",
   "metadata": {},
   "outputs": [
    {
     "data": {
      "text/plain": [
       "39105"
      ]
     },
     "execution_count": 9,
     "metadata": {},
     "output_type": "execute_result"
    }
   ],
   "source": [
    "len(true_df) + len(fake_df)"
   ]
  },
  {
   "cell_type": "code",
   "execution_count": 10,
   "id": "fc358974",
   "metadata": {},
   "outputs": [
    {
     "data": {
      "text/html": [
       "<div>\n",
       "<style scoped>\n",
       "    .dataframe tbody tr th:only-of-type {\n",
       "        vertical-align: middle;\n",
       "    }\n",
       "\n",
       "    .dataframe tbody tr th {\n",
       "        vertical-align: top;\n",
       "    }\n",
       "\n",
       "    .dataframe thead th {\n",
       "        text-align: right;\n",
       "    }\n",
       "</style>\n",
       "<table border=\"1\" class=\"dataframe\">\n",
       "  <thead>\n",
       "    <tr style=\"text-align: right;\">\n",
       "      <th></th>\n",
       "      <th>title</th>\n",
       "      <th>text</th>\n",
       "      <th>class</th>\n",
       "    </tr>\n",
       "  </thead>\n",
       "  <tbody>\n",
       "    <tr>\n",
       "      <th>0</th>\n",
       "      <td>As U.S. budget fight looms, Republicans flip t...</td>\n",
       "      <td>WASHINGTON (Reuters) - The head of a conservat...</td>\n",
       "      <td>1</td>\n",
       "    </tr>\n",
       "    <tr>\n",
       "      <th>1</th>\n",
       "      <td>U.S. military to accept transgender recruits o...</td>\n",
       "      <td>WASHINGTON (Reuters) - Transgender people will...</td>\n",
       "      <td>1</td>\n",
       "    </tr>\n",
       "    <tr>\n",
       "      <th>2</th>\n",
       "      <td>Senior U.S. Republican senator: 'Let Mr. Muell...</td>\n",
       "      <td>WASHINGTON (Reuters) - The special counsel inv...</td>\n",
       "      <td>1</td>\n",
       "    </tr>\n",
       "    <tr>\n",
       "      <th>3</th>\n",
       "      <td>FBI Russia probe helped by Australian diplomat...</td>\n",
       "      <td>WASHINGTON (Reuters) - Trump campaign adviser ...</td>\n",
       "      <td>1</td>\n",
       "    </tr>\n",
       "    <tr>\n",
       "      <th>4</th>\n",
       "      <td>Trump wants Postal Service to charge 'much mor...</td>\n",
       "      <td>SEATTLE/WASHINGTON (Reuters) - President Donal...</td>\n",
       "      <td>1</td>\n",
       "    </tr>\n",
       "    <tr>\n",
       "      <th>...</th>\n",
       "      <td>...</td>\n",
       "      <td>...</td>\n",
       "      <td>...</td>\n",
       "    </tr>\n",
       "    <tr>\n",
       "      <th>39100</th>\n",
       "      <td>The White House and The Theatrics of ‘Gun Cont...</td>\n",
       "      <td>21st Century Wire says All the world s a stage...</td>\n",
       "      <td>0</td>\n",
       "    </tr>\n",
       "    <tr>\n",
       "      <th>39101</th>\n",
       "      <td>Activists or Terrorists? How Media Controls an...</td>\n",
       "      <td>Randy Johnson 21st Century WireThe majority ...</td>\n",
       "      <td>0</td>\n",
       "    </tr>\n",
       "    <tr>\n",
       "      <th>39102</th>\n",
       "      <td>BOILER ROOM – No Surrender, No Retreat, Heads ...</td>\n",
       "      <td>Tune in to the Alternate Current Radio Network...</td>\n",
       "      <td>0</td>\n",
       "    </tr>\n",
       "    <tr>\n",
       "      <th>39103</th>\n",
       "      <td>Federal Showdown Looms in Oregon After BLM Abu...</td>\n",
       "      <td>21st Century Wire says A new front has just op...</td>\n",
       "      <td>0</td>\n",
       "    </tr>\n",
       "    <tr>\n",
       "      <th>39104</th>\n",
       "      <td>A Troubled King: Chicago’s Rahm Emanuel Desper...</td>\n",
       "      <td>21st Century Wire says It s not that far away....</td>\n",
       "      <td>0</td>\n",
       "    </tr>\n",
       "  </tbody>\n",
       "</table>\n",
       "<p>39105 rows × 3 columns</p>\n",
       "</div>"
      ],
      "text/plain": [
       "                                                   title  \\\n",
       "0      As U.S. budget fight looms, Republicans flip t...   \n",
       "1      U.S. military to accept transgender recruits o...   \n",
       "2      Senior U.S. Republican senator: 'Let Mr. Muell...   \n",
       "3      FBI Russia probe helped by Australian diplomat...   \n",
       "4      Trump wants Postal Service to charge 'much mor...   \n",
       "...                                                  ...   \n",
       "39100  The White House and The Theatrics of ‘Gun Cont...   \n",
       "39101  Activists or Terrorists? How Media Controls an...   \n",
       "39102  BOILER ROOM – No Surrender, No Retreat, Heads ...   \n",
       "39103  Federal Showdown Looms in Oregon After BLM Abu...   \n",
       "39104  A Troubled King: Chicago’s Rahm Emanuel Desper...   \n",
       "\n",
       "                                                    text  class  \n",
       "0      WASHINGTON (Reuters) - The head of a conservat...      1  \n",
       "1      WASHINGTON (Reuters) - Transgender people will...      1  \n",
       "2      WASHINGTON (Reuters) - The special counsel inv...      1  \n",
       "3      WASHINGTON (Reuters) - Trump campaign adviser ...      1  \n",
       "4      SEATTLE/WASHINGTON (Reuters) - President Donal...      1  \n",
       "...                                                  ...    ...  \n",
       "39100  21st Century Wire says All the world s a stage...      0  \n",
       "39101    Randy Johnson 21st Century WireThe majority ...      0  \n",
       "39102  Tune in to the Alternate Current Radio Network...      0  \n",
       "39103  21st Century Wire says A new front has just op...      0  \n",
       "39104  21st Century Wire says It s not that far away....      0  \n",
       "\n",
       "[39105 rows x 3 columns]"
      ]
     },
     "execution_count": 10,
     "metadata": {},
     "output_type": "execute_result"
    }
   ],
   "source": [
    "# Combining the two dataframes into one\n",
    "data_df = pd.concat([true_df, fake_df]).reset_index(drop=True)\n",
    "data_df"
   ]
  },
  {
   "cell_type": "markdown",
   "id": "7d43604e",
   "metadata": {},
   "source": [
    "For a sanity check, we can use .drop_duplicates in the event where there are any within the combined dataframe."
   ]
  },
  {
   "cell_type": "code",
   "execution_count": 11,
   "id": "b5b6f0df",
   "metadata": {},
   "outputs": [
    {
     "data": {
      "text/html": [
       "<div>\n",
       "<style scoped>\n",
       "    .dataframe tbody tr th:only-of-type {\n",
       "        vertical-align: middle;\n",
       "    }\n",
       "\n",
       "    .dataframe tbody tr th {\n",
       "        vertical-align: top;\n",
       "    }\n",
       "\n",
       "    .dataframe thead th {\n",
       "        text-align: right;\n",
       "    }\n",
       "</style>\n",
       "<table border=\"1\" class=\"dataframe\">\n",
       "  <thead>\n",
       "    <tr style=\"text-align: right;\">\n",
       "      <th></th>\n",
       "      <th>title</th>\n",
       "      <th>text</th>\n",
       "      <th>class</th>\n",
       "    </tr>\n",
       "  </thead>\n",
       "  <tbody>\n",
       "    <tr>\n",
       "      <th>0</th>\n",
       "      <td>As U.S. budget fight looms, Republicans flip t...</td>\n",
       "      <td>WASHINGTON (Reuters) - The head of a conservat...</td>\n",
       "      <td>1</td>\n",
       "    </tr>\n",
       "    <tr>\n",
       "      <th>1</th>\n",
       "      <td>U.S. military to accept transgender recruits o...</td>\n",
       "      <td>WASHINGTON (Reuters) - Transgender people will...</td>\n",
       "      <td>1</td>\n",
       "    </tr>\n",
       "    <tr>\n",
       "      <th>2</th>\n",
       "      <td>Senior U.S. Republican senator: 'Let Mr. Muell...</td>\n",
       "      <td>WASHINGTON (Reuters) - The special counsel inv...</td>\n",
       "      <td>1</td>\n",
       "    </tr>\n",
       "    <tr>\n",
       "      <th>3</th>\n",
       "      <td>FBI Russia probe helped by Australian diplomat...</td>\n",
       "      <td>WASHINGTON (Reuters) - Trump campaign adviser ...</td>\n",
       "      <td>1</td>\n",
       "    </tr>\n",
       "    <tr>\n",
       "      <th>4</th>\n",
       "      <td>Trump wants Postal Service to charge 'much mor...</td>\n",
       "      <td>SEATTLE/WASHINGTON (Reuters) - President Donal...</td>\n",
       "      <td>1</td>\n",
       "    </tr>\n",
       "    <tr>\n",
       "      <th>...</th>\n",
       "      <td>...</td>\n",
       "      <td>...</td>\n",
       "      <td>...</td>\n",
       "    </tr>\n",
       "    <tr>\n",
       "      <th>39100</th>\n",
       "      <td>The White House and The Theatrics of ‘Gun Cont...</td>\n",
       "      <td>21st Century Wire says All the world s a stage...</td>\n",
       "      <td>0</td>\n",
       "    </tr>\n",
       "    <tr>\n",
       "      <th>39101</th>\n",
       "      <td>Activists or Terrorists? How Media Controls an...</td>\n",
       "      <td>Randy Johnson 21st Century WireThe majority ...</td>\n",
       "      <td>0</td>\n",
       "    </tr>\n",
       "    <tr>\n",
       "      <th>39102</th>\n",
       "      <td>BOILER ROOM – No Surrender, No Retreat, Heads ...</td>\n",
       "      <td>Tune in to the Alternate Current Radio Network...</td>\n",
       "      <td>0</td>\n",
       "    </tr>\n",
       "    <tr>\n",
       "      <th>39103</th>\n",
       "      <td>Federal Showdown Looms in Oregon After BLM Abu...</td>\n",
       "      <td>21st Century Wire says A new front has just op...</td>\n",
       "      <td>0</td>\n",
       "    </tr>\n",
       "    <tr>\n",
       "      <th>39104</th>\n",
       "      <td>A Troubled King: Chicago’s Rahm Emanuel Desper...</td>\n",
       "      <td>21st Century Wire says It s not that far away....</td>\n",
       "      <td>0</td>\n",
       "    </tr>\n",
       "  </tbody>\n",
       "</table>\n",
       "<p>39105 rows × 3 columns</p>\n",
       "</div>"
      ],
      "text/plain": [
       "                                                   title  \\\n",
       "0      As U.S. budget fight looms, Republicans flip t...   \n",
       "1      U.S. military to accept transgender recruits o...   \n",
       "2      Senior U.S. Republican senator: 'Let Mr. Muell...   \n",
       "3      FBI Russia probe helped by Australian diplomat...   \n",
       "4      Trump wants Postal Service to charge 'much mor...   \n",
       "...                                                  ...   \n",
       "39100  The White House and The Theatrics of ‘Gun Cont...   \n",
       "39101  Activists or Terrorists? How Media Controls an...   \n",
       "39102  BOILER ROOM – No Surrender, No Retreat, Heads ...   \n",
       "39103  Federal Showdown Looms in Oregon After BLM Abu...   \n",
       "39104  A Troubled King: Chicago’s Rahm Emanuel Desper...   \n",
       "\n",
       "                                                    text  class  \n",
       "0      WASHINGTON (Reuters) - The head of a conservat...      1  \n",
       "1      WASHINGTON (Reuters) - Transgender people will...      1  \n",
       "2      WASHINGTON (Reuters) - The special counsel inv...      1  \n",
       "3      WASHINGTON (Reuters) - Trump campaign adviser ...      1  \n",
       "4      SEATTLE/WASHINGTON (Reuters) - President Donal...      1  \n",
       "...                                                  ...    ...  \n",
       "39100  21st Century Wire says All the world s a stage...      0  \n",
       "39101    Randy Johnson 21st Century WireThe majority ...      0  \n",
       "39102  Tune in to the Alternate Current Radio Network...      0  \n",
       "39103  21st Century Wire says A new front has just op...      0  \n",
       "39104  21st Century Wire says It s not that far away....      0  \n",
       "\n",
       "[39105 rows x 3 columns]"
      ]
     },
     "execution_count": 11,
     "metadata": {},
     "output_type": "execute_result"
    }
   ],
   "source": [
    "# Drop duplicate rows\n",
    "data_df = data_df.drop_duplicates()\n",
    "data_df"
   ]
  },
  {
   "cell_type": "markdown",
   "id": "e0977685",
   "metadata": {},
   "source": [
    "Now, we combine both the title and text to a single column in the dataframe."
   ]
  },
  {
   "cell_type": "code",
   "execution_count": 12,
   "id": "eb216a72",
   "metadata": {},
   "outputs": [
    {
     "data": {
      "text/html": [
       "<div>\n",
       "<style scoped>\n",
       "    .dataframe tbody tr th:only-of-type {\n",
       "        vertical-align: middle;\n",
       "    }\n",
       "\n",
       "    .dataframe tbody tr th {\n",
       "        vertical-align: top;\n",
       "    }\n",
       "\n",
       "    .dataframe thead th {\n",
       "        text-align: right;\n",
       "    }\n",
       "</style>\n",
       "<table border=\"1\" class=\"dataframe\">\n",
       "  <thead>\n",
       "    <tr style=\"text-align: right;\">\n",
       "      <th></th>\n",
       "      <th>title</th>\n",
       "      <th>text</th>\n",
       "      <th>class</th>\n",
       "      <th>title and text</th>\n",
       "    </tr>\n",
       "  </thead>\n",
       "  <tbody>\n",
       "    <tr>\n",
       "      <th>0</th>\n",
       "      <td>As U.S. budget fight looms, Republicans flip t...</td>\n",
       "      <td>WASHINGTON (Reuters) - The head of a conservat...</td>\n",
       "      <td>1</td>\n",
       "      <td>As U.S. budget fight looms, Republicans flip t...</td>\n",
       "    </tr>\n",
       "    <tr>\n",
       "      <th>1</th>\n",
       "      <td>U.S. military to accept transgender recruits o...</td>\n",
       "      <td>WASHINGTON (Reuters) - Transgender people will...</td>\n",
       "      <td>1</td>\n",
       "      <td>U.S. military to accept transgender recruits o...</td>\n",
       "    </tr>\n",
       "    <tr>\n",
       "      <th>2</th>\n",
       "      <td>Senior U.S. Republican senator: 'Let Mr. Muell...</td>\n",
       "      <td>WASHINGTON (Reuters) - The special counsel inv...</td>\n",
       "      <td>1</td>\n",
       "      <td>Senior U.S. Republican senator: 'Let Mr. Muell...</td>\n",
       "    </tr>\n",
       "    <tr>\n",
       "      <th>3</th>\n",
       "      <td>FBI Russia probe helped by Australian diplomat...</td>\n",
       "      <td>WASHINGTON (Reuters) - Trump campaign adviser ...</td>\n",
       "      <td>1</td>\n",
       "      <td>FBI Russia probe helped by Australian diplomat...</td>\n",
       "    </tr>\n",
       "    <tr>\n",
       "      <th>4</th>\n",
       "      <td>Trump wants Postal Service to charge 'much mor...</td>\n",
       "      <td>SEATTLE/WASHINGTON (Reuters) - President Donal...</td>\n",
       "      <td>1</td>\n",
       "      <td>Trump wants Postal Service to charge 'much mor...</td>\n",
       "    </tr>\n",
       "    <tr>\n",
       "      <th>...</th>\n",
       "      <td>...</td>\n",
       "      <td>...</td>\n",
       "      <td>...</td>\n",
       "      <td>...</td>\n",
       "    </tr>\n",
       "    <tr>\n",
       "      <th>39100</th>\n",
       "      <td>The White House and The Theatrics of ‘Gun Cont...</td>\n",
       "      <td>21st Century Wire says All the world s a stage...</td>\n",
       "      <td>0</td>\n",
       "      <td>The White House and The Theatrics of ‘Gun Cont...</td>\n",
       "    </tr>\n",
       "    <tr>\n",
       "      <th>39101</th>\n",
       "      <td>Activists or Terrorists? How Media Controls an...</td>\n",
       "      <td>Randy Johnson 21st Century WireThe majority ...</td>\n",
       "      <td>0</td>\n",
       "      <td>Activists or Terrorists? How Media Controls an...</td>\n",
       "    </tr>\n",
       "    <tr>\n",
       "      <th>39102</th>\n",
       "      <td>BOILER ROOM – No Surrender, No Retreat, Heads ...</td>\n",
       "      <td>Tune in to the Alternate Current Radio Network...</td>\n",
       "      <td>0</td>\n",
       "      <td>BOILER ROOM – No Surrender, No Retreat, Heads ...</td>\n",
       "    </tr>\n",
       "    <tr>\n",
       "      <th>39103</th>\n",
       "      <td>Federal Showdown Looms in Oregon After BLM Abu...</td>\n",
       "      <td>21st Century Wire says A new front has just op...</td>\n",
       "      <td>0</td>\n",
       "      <td>Federal Showdown Looms in Oregon After BLM Abu...</td>\n",
       "    </tr>\n",
       "    <tr>\n",
       "      <th>39104</th>\n",
       "      <td>A Troubled King: Chicago’s Rahm Emanuel Desper...</td>\n",
       "      <td>21st Century Wire says It s not that far away....</td>\n",
       "      <td>0</td>\n",
       "      <td>A Troubled King: Chicago’s Rahm Emanuel Desper...</td>\n",
       "    </tr>\n",
       "  </tbody>\n",
       "</table>\n",
       "<p>39105 rows × 4 columns</p>\n",
       "</div>"
      ],
      "text/plain": [
       "                                                   title  \\\n",
       "0      As U.S. budget fight looms, Republicans flip t...   \n",
       "1      U.S. military to accept transgender recruits o...   \n",
       "2      Senior U.S. Republican senator: 'Let Mr. Muell...   \n",
       "3      FBI Russia probe helped by Australian diplomat...   \n",
       "4      Trump wants Postal Service to charge 'much mor...   \n",
       "...                                                  ...   \n",
       "39100  The White House and The Theatrics of ‘Gun Cont...   \n",
       "39101  Activists or Terrorists? How Media Controls an...   \n",
       "39102  BOILER ROOM – No Surrender, No Retreat, Heads ...   \n",
       "39103  Federal Showdown Looms in Oregon After BLM Abu...   \n",
       "39104  A Troubled King: Chicago’s Rahm Emanuel Desper...   \n",
       "\n",
       "                                                    text  class  \\\n",
       "0      WASHINGTON (Reuters) - The head of a conservat...      1   \n",
       "1      WASHINGTON (Reuters) - Transgender people will...      1   \n",
       "2      WASHINGTON (Reuters) - The special counsel inv...      1   \n",
       "3      WASHINGTON (Reuters) - Trump campaign adviser ...      1   \n",
       "4      SEATTLE/WASHINGTON (Reuters) - President Donal...      1   \n",
       "...                                                  ...    ...   \n",
       "39100  21st Century Wire says All the world s a stage...      0   \n",
       "39101    Randy Johnson 21st Century WireThe majority ...      0   \n",
       "39102  Tune in to the Alternate Current Radio Network...      0   \n",
       "39103  21st Century Wire says A new front has just op...      0   \n",
       "39104  21st Century Wire says It s not that far away....      0   \n",
       "\n",
       "                                          title and text  \n",
       "0      As U.S. budget fight looms, Republicans flip t...  \n",
       "1      U.S. military to accept transgender recruits o...  \n",
       "2      Senior U.S. Republican senator: 'Let Mr. Muell...  \n",
       "3      FBI Russia probe helped by Australian diplomat...  \n",
       "4      Trump wants Postal Service to charge 'much mor...  \n",
       "...                                                  ...  \n",
       "39100  The White House and The Theatrics of ‘Gun Cont...  \n",
       "39101  Activists or Terrorists? How Media Controls an...  \n",
       "39102  BOILER ROOM – No Surrender, No Retreat, Heads ...  \n",
       "39103  Federal Showdown Looms in Oregon After BLM Abu...  \n",
       "39104  A Troubled King: Chicago’s Rahm Emanuel Desper...  \n",
       "\n",
       "[39105 rows x 4 columns]"
      ]
     },
     "execution_count": 12,
     "metadata": {},
     "output_type": "execute_result"
    }
   ],
   "source": [
    "#Combining the title and text columns\n",
    "data_df['title and text'] = data_df['title'] + \" \" + data_df['text']\n",
    "data_df"
   ]
  },
  {
   "cell_type": "markdown",
   "id": "bbbeda5e",
   "metadata": {},
   "source": [
    "Then, we can drop the *title* and *text* columns"
   ]
  },
  {
   "cell_type": "code",
   "execution_count": 13,
   "id": "57999e48",
   "metadata": {},
   "outputs": [
    {
     "data": {
      "text/html": [
       "<div>\n",
       "<style scoped>\n",
       "    .dataframe tbody tr th:only-of-type {\n",
       "        vertical-align: middle;\n",
       "    }\n",
       "\n",
       "    .dataframe tbody tr th {\n",
       "        vertical-align: top;\n",
       "    }\n",
       "\n",
       "    .dataframe thead th {\n",
       "        text-align: right;\n",
       "    }\n",
       "</style>\n",
       "<table border=\"1\" class=\"dataframe\">\n",
       "  <thead>\n",
       "    <tr style=\"text-align: right;\">\n",
       "      <th></th>\n",
       "      <th>class</th>\n",
       "      <th>title and text</th>\n",
       "    </tr>\n",
       "  </thead>\n",
       "  <tbody>\n",
       "    <tr>\n",
       "      <th>0</th>\n",
       "      <td>1</td>\n",
       "      <td>As U.S. budget fight looms, Republicans flip t...</td>\n",
       "    </tr>\n",
       "    <tr>\n",
       "      <th>1</th>\n",
       "      <td>1</td>\n",
       "      <td>U.S. military to accept transgender recruits o...</td>\n",
       "    </tr>\n",
       "    <tr>\n",
       "      <th>2</th>\n",
       "      <td>1</td>\n",
       "      <td>Senior U.S. Republican senator: 'Let Mr. Muell...</td>\n",
       "    </tr>\n",
       "    <tr>\n",
       "      <th>3</th>\n",
       "      <td>1</td>\n",
       "      <td>FBI Russia probe helped by Australian diplomat...</td>\n",
       "    </tr>\n",
       "    <tr>\n",
       "      <th>4</th>\n",
       "      <td>1</td>\n",
       "      <td>Trump wants Postal Service to charge 'much mor...</td>\n",
       "    </tr>\n",
       "    <tr>\n",
       "      <th>...</th>\n",
       "      <td>...</td>\n",
       "      <td>...</td>\n",
       "    </tr>\n",
       "    <tr>\n",
       "      <th>39100</th>\n",
       "      <td>0</td>\n",
       "      <td>The White House and The Theatrics of ‘Gun Cont...</td>\n",
       "    </tr>\n",
       "    <tr>\n",
       "      <th>39101</th>\n",
       "      <td>0</td>\n",
       "      <td>Activists or Terrorists? How Media Controls an...</td>\n",
       "    </tr>\n",
       "    <tr>\n",
       "      <th>39102</th>\n",
       "      <td>0</td>\n",
       "      <td>BOILER ROOM – No Surrender, No Retreat, Heads ...</td>\n",
       "    </tr>\n",
       "    <tr>\n",
       "      <th>39103</th>\n",
       "      <td>0</td>\n",
       "      <td>Federal Showdown Looms in Oregon After BLM Abu...</td>\n",
       "    </tr>\n",
       "    <tr>\n",
       "      <th>39104</th>\n",
       "      <td>0</td>\n",
       "      <td>A Troubled King: Chicago’s Rahm Emanuel Desper...</td>\n",
       "    </tr>\n",
       "  </tbody>\n",
       "</table>\n",
       "<p>39105 rows × 2 columns</p>\n",
       "</div>"
      ],
      "text/plain": [
       "       class                                     title and text\n",
       "0          1  As U.S. budget fight looms, Republicans flip t...\n",
       "1          1  U.S. military to accept transgender recruits o...\n",
       "2          1  Senior U.S. Republican senator: 'Let Mr. Muell...\n",
       "3          1  FBI Russia probe helped by Australian diplomat...\n",
       "4          1  Trump wants Postal Service to charge 'much mor...\n",
       "...      ...                                                ...\n",
       "39100      0  The White House and The Theatrics of ‘Gun Cont...\n",
       "39101      0  Activists or Terrorists? How Media Controls an...\n",
       "39102      0  BOILER ROOM – No Surrender, No Retreat, Heads ...\n",
       "39103      0  Federal Showdown Looms in Oregon After BLM Abu...\n",
       "39104      0  A Troubled King: Chicago’s Rahm Emanuel Desper...\n",
       "\n",
       "[39105 rows x 2 columns]"
      ]
     },
     "execution_count": 13,
     "metadata": {},
     "output_type": "execute_result"
    }
   ],
   "source": [
    "data_df = data_df.drop(columns=['title', 'text'])\n",
    "data_df"
   ]
  },
  {
   "cell_type": "markdown",
   "id": "4b5aaa1b",
   "metadata": {},
   "source": [
    "Once we have cleaned the data sufficiently, we can proceed to preprocess the data. In particular, we can remove stopwords, punctuation and digits, then apply tokenization. Firstly, we start with acquiring stopwords. As can be seen in the cell below, there are 179 stopwords in the English language imported from the nltk.corpus package. "
   ]
  },
  {
   "cell_type": "code",
   "execution_count": 14,
   "id": "f0e19c7b",
   "metadata": {},
   "outputs": [
    {
     "name": "stdout",
     "output_type": "stream",
     "text": [
      "179\n"
     ]
    }
   ],
   "source": [
    "from nltk.corpus import stopwords\n",
    "nltk_stop = stopwords.words('english')\n",
    "print(len(nltk_stop))"
   ]
  },
  {
   "cell_type": "markdown",
   "id": "3b6afd0e",
   "metadata": {},
   "source": [
    "Comparing with a stopwords csv file available on Coursera, the stopwords from nltk might not be sufficient and effective enough to remove all irrelevant words from our dataset. Thus, we can combine both sources and filter out the duplicates for higher effectiveness in removing stopwords. The whole process can be seen below. "
   ]
  },
  {
   "cell_type": "code",
   "execution_count": 15,
   "id": "7c370a89",
   "metadata": {},
   "outputs": [
    {
     "data": {
      "text/plain": [
       "476"
      ]
     },
     "execution_count": 15,
     "metadata": {},
     "output_type": "execute_result"
    }
   ],
   "source": [
    "csv_stop = pd.read_csv(\"stopwords.csv\", names=['words'])\n",
    "len(csv_stop)"
   ]
  },
  {
   "cell_type": "markdown",
   "id": "5ad668ad",
   "metadata": {},
   "source": [
    "Now, we compare the two stopwords dictionaries and add in stopwords from nltk_stop that are nonexistent in csv_stop. We firstb compile the stopwords in csv_stop into a list."
   ]
  },
  {
   "cell_type": "code",
   "execution_count": 16,
   "id": "6dc977e0",
   "metadata": {},
   "outputs": [],
   "source": [
    "def read_in_csv(csv_file):\n",
    "    with open(csv_file, 'r', encoding='utf-8') as fp:\n",
    "        reader = csv.reader(fp, delimiter=',', quotechar='\"')\n",
    "        data_read = [row for row in reader]\n",
    "    data_read = [word[0] for word in data_read]\n",
    "    return data_read\n",
    "\n",
    "csv_stop = read_in_csv(\"stopwords.csv\")"
   ]
  },
  {
   "cell_type": "markdown",
   "id": "80331a76",
   "metadata": {},
   "source": [
    "As a visualization representation, the csv_stop list can be converted into a pandas DataFrame."
   ]
  },
  {
   "cell_type": "code",
   "execution_count": 17,
   "id": "a2a5c51f",
   "metadata": {},
   "outputs": [
    {
     "data": {
      "text/html": [
       "<div>\n",
       "<style scoped>\n",
       "    .dataframe tbody tr th:only-of-type {\n",
       "        vertical-align: middle;\n",
       "    }\n",
       "\n",
       "    .dataframe tbody tr th {\n",
       "        vertical-align: top;\n",
       "    }\n",
       "\n",
       "    .dataframe thead th {\n",
       "        text-align: right;\n",
       "    }\n",
       "</style>\n",
       "<table border=\"1\" class=\"dataframe\">\n",
       "  <thead>\n",
       "    <tr style=\"text-align: right;\">\n",
       "      <th></th>\n",
       "      <th>stopwords</th>\n",
       "    </tr>\n",
       "  </thead>\n",
       "  <tbody>\n",
       "    <tr>\n",
       "      <th>0</th>\n",
       "      <td>'m</td>\n",
       "    </tr>\n",
       "    <tr>\n",
       "      <th>1</th>\n",
       "      <td>'re</td>\n",
       "    </tr>\n",
       "    <tr>\n",
       "      <th>2</th>\n",
       "      <td>'s</td>\n",
       "    </tr>\n",
       "    <tr>\n",
       "      <th>3</th>\n",
       "      <td>'ve</td>\n",
       "    </tr>\n",
       "    <tr>\n",
       "      <th>4</th>\n",
       "      <td>a</td>\n",
       "    </tr>\n",
       "    <tr>\n",
       "      <th>...</th>\n",
       "      <td>...</td>\n",
       "    </tr>\n",
       "    <tr>\n",
       "      <th>471</th>\n",
       "      <td>your</td>\n",
       "    </tr>\n",
       "    <tr>\n",
       "      <th>472</th>\n",
       "      <td>youre</td>\n",
       "    </tr>\n",
       "    <tr>\n",
       "      <th>473</th>\n",
       "      <td>yours</td>\n",
       "    </tr>\n",
       "    <tr>\n",
       "      <th>474</th>\n",
       "      <td>yourself</td>\n",
       "    </tr>\n",
       "    <tr>\n",
       "      <th>475</th>\n",
       "      <td>yourselves</td>\n",
       "    </tr>\n",
       "  </tbody>\n",
       "</table>\n",
       "<p>476 rows × 1 columns</p>\n",
       "</div>"
      ],
      "text/plain": [
       "      stopwords\n",
       "0            'm\n",
       "1           're\n",
       "2            's\n",
       "3           've\n",
       "4             a\n",
       "..          ...\n",
       "471        your\n",
       "472       youre\n",
       "473       yours\n",
       "474    yourself\n",
       "475  yourselves\n",
       "\n",
       "[476 rows x 1 columns]"
      ]
     },
     "execution_count": 17,
     "metadata": {},
     "output_type": "execute_result"
    }
   ],
   "source": [
    "stopwords_df = pd.DataFrame(csv_stop, columns=['stopwords'])\n",
    "stopwords_df"
   ]
  },
  {
   "cell_type": "markdown",
   "id": "5dca6a41",
   "metadata": {},
   "source": [
    "Now, we add in the omitted stopwords."
   ]
  },
  {
   "cell_type": "code",
   "execution_count": 18,
   "id": "52cbcbaf",
   "metadata": {},
   "outputs": [
    {
     "name": "stdout",
     "output_type": "stream",
     "text": [
      "Before: 476\n",
      "Omitted: 33\n",
      "After: 509\n"
     ]
    }
   ],
   "source": [
    "print(\"Before:\", len(csv_stop))\n",
    "count = 0\n",
    "# Make a copy of csv_stop and store into a new variable to prevent overwriting the original\n",
    "final_stop = csv_stop.copy()\n",
    "for word in nltk_stop:\n",
    "    if word not in csv_stop:\n",
    "        final_stop.append(word)\n",
    "        count += 1\n",
    "print(\"Omitted:\",count)\n",
    "print(\"After:\", len(final_stop))"
   ]
  },
  {
   "cell_type": "markdown",
   "id": "78b3a9f5",
   "metadata": {},
   "source": [
    "Now that we have our dictionary of stopwords, we proceed with preprossessing. In our preprocessing step, we initialise a lemmatizer, as lemmatization 'reduces the inflected words properly ensuring that the root word belongs to the language.' (Jabeen, 2018)\n",
    "\n",
    "For example, fishes and fishing are forms of the word fish, thus, fish is the lemma. Lemmatization is necessary here to get valid words without repetition of words that mean the same thing, especially with a large dataset where there are repetitive vocabulary. \n",
    "\n",
    "Besides lemmatizing, we also remove any punctuation, special characters and digits, keeping only words that are neither stopwords nor contains less than 3 characters, as they do not contribute to the text representation and the performance of the classifier."
   ]
  },
  {
   "cell_type": "code",
   "execution_count": 19,
   "id": "3043d217",
   "metadata": {},
   "outputs": [],
   "source": [
    "# Instantiate lemmatizer\n",
    "lemmatizer = WordNetLemmatizer()"
   ]
  },
  {
   "cell_type": "code",
   "execution_count": 20,
   "id": "6e602a4b",
   "metadata": {
    "scrolled": true
   },
   "outputs": [],
   "source": [
    "# This function effectively removes digits and punctuation \n",
    "def preprocess_text(text):\n",
    "    result = []\n",
    "    # convert text to lowercase\n",
    "    text = text.lower()\n",
    "    # remove digits\n",
    "    text = re.sub(r'\\d', '', text)\n",
    "    # remove any characters that are not words or whitespaces\n",
    "    text = re.sub(r'[^\\w\\s]', ' ', text)\n",
    "    # remove any special characters\n",
    "    text = re.sub(r\"[^a-zA-Z]\", \" \", text)\n",
    "    for token in nltk.word_tokenize(text):\n",
    "        # remove words with 3 characters or less and stopwords\n",
    "        if len(token) > 3 and token not in final_stop:\n",
    "            # apply lemmatization\n",
    "            token = lemmatizer.lemmatize(token)\n",
    "            result.append(token)       \n",
    "    return result\n",
    "\n",
    "data_df['preprocessed'] = data_df['title and text'].apply(preprocess_text)\n",
    "# data_df['preprocessed'][0]"
   ]
  },
  {
   "cell_type": "code",
   "execution_count": 21,
   "id": "ae4e37c2",
   "metadata": {},
   "outputs": [
    {
     "data": {
      "text/plain": [
       "370"
      ]
     },
     "execution_count": 21,
     "metadata": {},
     "output_type": "execute_result"
    }
   ],
   "source": [
    "len(data_df['preprocessed'][0])"
   ]
  },
  {
   "cell_type": "code",
   "execution_count": 22,
   "id": "5d2b9f48",
   "metadata": {},
   "outputs": [
    {
     "data": {
      "text/html": [
       "<div>\n",
       "<style scoped>\n",
       "    .dataframe tbody tr th:only-of-type {\n",
       "        vertical-align: middle;\n",
       "    }\n",
       "\n",
       "    .dataframe tbody tr th {\n",
       "        vertical-align: top;\n",
       "    }\n",
       "\n",
       "    .dataframe thead th {\n",
       "        text-align: right;\n",
       "    }\n",
       "</style>\n",
       "<table border=\"1\" class=\"dataframe\">\n",
       "  <thead>\n",
       "    <tr style=\"text-align: right;\">\n",
       "      <th></th>\n",
       "      <th>class</th>\n",
       "      <th>title and text</th>\n",
       "      <th>preprocessed</th>\n",
       "    </tr>\n",
       "  </thead>\n",
       "  <tbody>\n",
       "    <tr>\n",
       "      <th>0</th>\n",
       "      <td>1</td>\n",
       "      <td>As U.S. budget fight looms, Republicans flip t...</td>\n",
       "      <td>[budget, fight, loom, republican, flip, fiscal...</td>\n",
       "    </tr>\n",
       "    <tr>\n",
       "      <th>1</th>\n",
       "      <td>1</td>\n",
       "      <td>U.S. military to accept transgender recruits o...</td>\n",
       "      <td>[military, accept, transgender, recruit, monda...</td>\n",
       "    </tr>\n",
       "    <tr>\n",
       "      <th>2</th>\n",
       "      <td>1</td>\n",
       "      <td>Senior U.S. Republican senator: 'Let Mr. Muell...</td>\n",
       "      <td>[senior, republican, senator, mueller, washing...</td>\n",
       "    </tr>\n",
       "    <tr>\n",
       "      <th>3</th>\n",
       "      <td>1</td>\n",
       "      <td>FBI Russia probe helped by Australian diplomat...</td>\n",
       "      <td>[russia, probe, helped, australian, diplomat, ...</td>\n",
       "    </tr>\n",
       "    <tr>\n",
       "      <th>4</th>\n",
       "      <td>1</td>\n",
       "      <td>Trump wants Postal Service to charge 'much mor...</td>\n",
       "      <td>[trump, postal, service, charge, amazon, shipm...</td>\n",
       "    </tr>\n",
       "    <tr>\n",
       "      <th>...</th>\n",
       "      <td>...</td>\n",
       "      <td>...</td>\n",
       "      <td>...</td>\n",
       "    </tr>\n",
       "    <tr>\n",
       "      <th>39100</th>\n",
       "      <td>0</td>\n",
       "      <td>The White House and The Theatrics of ‘Gun Cont...</td>\n",
       "      <td>[white, house, theatrics, control, century, wi...</td>\n",
       "    </tr>\n",
       "    <tr>\n",
       "      <th>39101</th>\n",
       "      <td>0</td>\n",
       "      <td>Activists or Terrorists? How Media Controls an...</td>\n",
       "      <td>[activist, terrorist, medium, control, dictate...</td>\n",
       "    </tr>\n",
       "    <tr>\n",
       "      <th>39102</th>\n",
       "      <td>0</td>\n",
       "      <td>BOILER ROOM – No Surrender, No Retreat, Heads ...</td>\n",
       "      <td>[boiler, room, surrender, retreat, head, roll,...</td>\n",
       "    </tr>\n",
       "    <tr>\n",
       "      <th>39103</th>\n",
       "      <td>0</td>\n",
       "      <td>Federal Showdown Looms in Oregon After BLM Abu...</td>\n",
       "      <td>[federal, showdown, loom, oregon, abuse, local...</td>\n",
       "    </tr>\n",
       "    <tr>\n",
       "      <th>39104</th>\n",
       "      <td>0</td>\n",
       "      <td>A Troubled King: Chicago’s Rahm Emanuel Desper...</td>\n",
       "      <td>[troubled, king, chicago, rahm, emanuel, despe...</td>\n",
       "    </tr>\n",
       "  </tbody>\n",
       "</table>\n",
       "<p>39105 rows × 3 columns</p>\n",
       "</div>"
      ],
      "text/plain": [
       "       class                                     title and text  \\\n",
       "0          1  As U.S. budget fight looms, Republicans flip t...   \n",
       "1          1  U.S. military to accept transgender recruits o...   \n",
       "2          1  Senior U.S. Republican senator: 'Let Mr. Muell...   \n",
       "3          1  FBI Russia probe helped by Australian diplomat...   \n",
       "4          1  Trump wants Postal Service to charge 'much mor...   \n",
       "...      ...                                                ...   \n",
       "39100      0  The White House and The Theatrics of ‘Gun Cont...   \n",
       "39101      0  Activists or Terrorists? How Media Controls an...   \n",
       "39102      0  BOILER ROOM – No Surrender, No Retreat, Heads ...   \n",
       "39103      0  Federal Showdown Looms in Oregon After BLM Abu...   \n",
       "39104      0  A Troubled King: Chicago’s Rahm Emanuel Desper...   \n",
       "\n",
       "                                            preprocessed  \n",
       "0      [budget, fight, loom, republican, flip, fiscal...  \n",
       "1      [military, accept, transgender, recruit, monda...  \n",
       "2      [senior, republican, senator, mueller, washing...  \n",
       "3      [russia, probe, helped, australian, diplomat, ...  \n",
       "4      [trump, postal, service, charge, amazon, shipm...  \n",
       "...                                                  ...  \n",
       "39100  [white, house, theatrics, control, century, wi...  \n",
       "39101  [activist, terrorist, medium, control, dictate...  \n",
       "39102  [boiler, room, surrender, retreat, head, roll,...  \n",
       "39103  [federal, showdown, loom, oregon, abuse, local...  \n",
       "39104  [troubled, king, chicago, rahm, emanuel, despe...  \n",
       "\n",
       "[39105 rows x 3 columns]"
      ]
     },
     "execution_count": 22,
     "metadata": {},
     "output_type": "execute_result"
    }
   ],
   "source": [
    "data_df"
   ]
  },
  {
   "cell_type": "markdown",
   "id": "7f956d2d",
   "metadata": {},
   "source": [
    "We can also create another column that contains the joined tokens, in the event where we require it for building a specific model."
   ]
  },
  {
   "cell_type": "code",
   "execution_count": 23,
   "id": "6a058d00",
   "metadata": {},
   "outputs": [
    {
     "data": {
      "text/html": [
       "<div>\n",
       "<style scoped>\n",
       "    .dataframe tbody tr th:only-of-type {\n",
       "        vertical-align: middle;\n",
       "    }\n",
       "\n",
       "    .dataframe tbody tr th {\n",
       "        vertical-align: top;\n",
       "    }\n",
       "\n",
       "    .dataframe thead th {\n",
       "        text-align: right;\n",
       "    }\n",
       "</style>\n",
       "<table border=\"1\" class=\"dataframe\">\n",
       "  <thead>\n",
       "    <tr style=\"text-align: right;\">\n",
       "      <th></th>\n",
       "      <th>class</th>\n",
       "      <th>title and text</th>\n",
       "      <th>preprocessed</th>\n",
       "      <th>join_preprocessed</th>\n",
       "    </tr>\n",
       "  </thead>\n",
       "  <tbody>\n",
       "    <tr>\n",
       "      <th>0</th>\n",
       "      <td>1</td>\n",
       "      <td>As U.S. budget fight looms, Republicans flip t...</td>\n",
       "      <td>[budget, fight, loom, republican, flip, fiscal...</td>\n",
       "      <td>budget fight loom republican flip fiscal scrip...</td>\n",
       "    </tr>\n",
       "    <tr>\n",
       "      <th>1</th>\n",
       "      <td>1</td>\n",
       "      <td>U.S. military to accept transgender recruits o...</td>\n",
       "      <td>[military, accept, transgender, recruit, monda...</td>\n",
       "      <td>military accept transgender recruit monday pen...</td>\n",
       "    </tr>\n",
       "    <tr>\n",
       "      <th>2</th>\n",
       "      <td>1</td>\n",
       "      <td>Senior U.S. Republican senator: 'Let Mr. Muell...</td>\n",
       "      <td>[senior, republican, senator, mueller, washing...</td>\n",
       "      <td>senior republican senator mueller washington r...</td>\n",
       "    </tr>\n",
       "    <tr>\n",
       "      <th>3</th>\n",
       "      <td>1</td>\n",
       "      <td>FBI Russia probe helped by Australian diplomat...</td>\n",
       "      <td>[russia, probe, helped, australian, diplomat, ...</td>\n",
       "      <td>russia probe helped australian diplomat washin...</td>\n",
       "    </tr>\n",
       "    <tr>\n",
       "      <th>4</th>\n",
       "      <td>1</td>\n",
       "      <td>Trump wants Postal Service to charge 'much mor...</td>\n",
       "      <td>[trump, postal, service, charge, amazon, shipm...</td>\n",
       "      <td>trump postal service charge amazon shipment se...</td>\n",
       "    </tr>\n",
       "    <tr>\n",
       "      <th>...</th>\n",
       "      <td>...</td>\n",
       "      <td>...</td>\n",
       "      <td>...</td>\n",
       "      <td>...</td>\n",
       "    </tr>\n",
       "    <tr>\n",
       "      <th>39100</th>\n",
       "      <td>0</td>\n",
       "      <td>The White House and The Theatrics of ‘Gun Cont...</td>\n",
       "      <td>[white, house, theatrics, control, century, wi...</td>\n",
       "      <td>white house theatrics control century wire say...</td>\n",
       "    </tr>\n",
       "    <tr>\n",
       "      <th>39101</th>\n",
       "      <td>0</td>\n",
       "      <td>Activists or Terrorists? How Media Controls an...</td>\n",
       "      <td>[activist, terrorist, medium, control, dictate...</td>\n",
       "      <td>activist terrorist medium control dictate narr...</td>\n",
       "    </tr>\n",
       "    <tr>\n",
       "      <th>39102</th>\n",
       "      <td>0</td>\n",
       "      <td>BOILER ROOM – No Surrender, No Retreat, Heads ...</td>\n",
       "      <td>[boiler, room, surrender, retreat, head, roll,...</td>\n",
       "      <td>boiler room surrender retreat head roll tune a...</td>\n",
       "    </tr>\n",
       "    <tr>\n",
       "      <th>39103</th>\n",
       "      <td>0</td>\n",
       "      <td>Federal Showdown Looms in Oregon After BLM Abu...</td>\n",
       "      <td>[federal, showdown, loom, oregon, abuse, local...</td>\n",
       "      <td>federal showdown loom oregon abuse local ranch...</td>\n",
       "    </tr>\n",
       "    <tr>\n",
       "      <th>39104</th>\n",
       "      <td>0</td>\n",
       "      <td>A Troubled King: Chicago’s Rahm Emanuel Desper...</td>\n",
       "      <td>[troubled, king, chicago, rahm, emanuel, despe...</td>\n",
       "      <td>troubled king chicago rahm emanuel desperate s...</td>\n",
       "    </tr>\n",
       "  </tbody>\n",
       "</table>\n",
       "<p>39105 rows × 4 columns</p>\n",
       "</div>"
      ],
      "text/plain": [
       "       class                                     title and text  \\\n",
       "0          1  As U.S. budget fight looms, Republicans flip t...   \n",
       "1          1  U.S. military to accept transgender recruits o...   \n",
       "2          1  Senior U.S. Republican senator: 'Let Mr. Muell...   \n",
       "3          1  FBI Russia probe helped by Australian diplomat...   \n",
       "4          1  Trump wants Postal Service to charge 'much mor...   \n",
       "...      ...                                                ...   \n",
       "39100      0  The White House and The Theatrics of ‘Gun Cont...   \n",
       "39101      0  Activists or Terrorists? How Media Controls an...   \n",
       "39102      0  BOILER ROOM – No Surrender, No Retreat, Heads ...   \n",
       "39103      0  Federal Showdown Looms in Oregon After BLM Abu...   \n",
       "39104      0  A Troubled King: Chicago’s Rahm Emanuel Desper...   \n",
       "\n",
       "                                            preprocessed  \\\n",
       "0      [budget, fight, loom, republican, flip, fiscal...   \n",
       "1      [military, accept, transgender, recruit, monda...   \n",
       "2      [senior, republican, senator, mueller, washing...   \n",
       "3      [russia, probe, helped, australian, diplomat, ...   \n",
       "4      [trump, postal, service, charge, amazon, shipm...   \n",
       "...                                                  ...   \n",
       "39100  [white, house, theatrics, control, century, wi...   \n",
       "39101  [activist, terrorist, medium, control, dictate...   \n",
       "39102  [boiler, room, surrender, retreat, head, roll,...   \n",
       "39103  [federal, showdown, loom, oregon, abuse, local...   \n",
       "39104  [troubled, king, chicago, rahm, emanuel, despe...   \n",
       "\n",
       "                                       join_preprocessed  \n",
       "0      budget fight loom republican flip fiscal scrip...  \n",
       "1      military accept transgender recruit monday pen...  \n",
       "2      senior republican senator mueller washington r...  \n",
       "3      russia probe helped australian diplomat washin...  \n",
       "4      trump postal service charge amazon shipment se...  \n",
       "...                                                  ...  \n",
       "39100  white house theatrics control century wire say...  \n",
       "39101  activist terrorist medium control dictate narr...  \n",
       "39102  boiler room surrender retreat head roll tune a...  \n",
       "39103  federal showdown loom oregon abuse local ranch...  \n",
       "39104  troubled king chicago rahm emanuel desperate s...  \n",
       "\n",
       "[39105 rows x 4 columns]"
      ]
     },
     "execution_count": 23,
     "metadata": {},
     "output_type": "execute_result"
    }
   ],
   "source": [
    "# Joined elements of df_dataset['clean'] into a new column (for training Machine Learning models)\n",
    "data_df['join_preprocessed'] = data_df['preprocessed'].apply(lambda x: \" \".join(x))\n",
    "data_df"
   ]
  },
  {
   "cell_type": "markdown",
   "id": "589c4a22",
   "metadata": {},
   "source": [
    "### Shuffle data"
   ]
  },
  {
   "cell_type": "markdown",
   "id": "5afd8754",
   "metadata": {},
   "source": [
    "Before training the model, we first shuffle the dataset using the .sample method.\n",
    "\n",
    "frac refers to the fraction of rows to return in the random sample, so frac=1 means to return all rows in random order. Specifying drop=True drops the column containing the previous index entries.\n",
    "\n",
    "Reference: https://stackoverflow.com/questions/29576430/shuffle-dataframe-rows"
   ]
  },
  {
   "cell_type": "code",
   "execution_count": 24,
   "id": "ae25c38b",
   "metadata": {},
   "outputs": [
    {
     "data": {
      "text/html": [
       "<div>\n",
       "<style scoped>\n",
       "    .dataframe tbody tr th:only-of-type {\n",
       "        vertical-align: middle;\n",
       "    }\n",
       "\n",
       "    .dataframe tbody tr th {\n",
       "        vertical-align: top;\n",
       "    }\n",
       "\n",
       "    .dataframe thead th {\n",
       "        text-align: right;\n",
       "    }\n",
       "</style>\n",
       "<table border=\"1\" class=\"dataframe\">\n",
       "  <thead>\n",
       "    <tr style=\"text-align: right;\">\n",
       "      <th></th>\n",
       "      <th>class</th>\n",
       "      <th>title and text</th>\n",
       "      <th>preprocessed</th>\n",
       "      <th>join_preprocessed</th>\n",
       "    </tr>\n",
       "  </thead>\n",
       "  <tbody>\n",
       "    <tr>\n",
       "      <th>0</th>\n",
       "      <td>0</td>\n",
       "      <td>Gerald Celente: Top 10 Trends for 2017 What ca...</td>\n",
       "      <td>[gerald, celente, trend, expect, inflated, mar...</td>\n",
       "      <td>gerald celente trend expect inflated market in...</td>\n",
       "    </tr>\n",
       "    <tr>\n",
       "      <th>1</th>\n",
       "      <td>0</td>\n",
       "      <td>Grey’s Anatomy Star Makes Hilarious Observati...</td>\n",
       "      <td>[grey, anatomy, star, make, hilarious, observa...</td>\n",
       "      <td>grey anatomy star make hilarious observation t...</td>\n",
       "    </tr>\n",
       "    <tr>\n",
       "      <th>2</th>\n",
       "      <td>0</td>\n",
       "      <td>Trump’s Doctor Makes Bizarre Confession (VIDE...</td>\n",
       "      <td>[trump, doctor, make, bizarre, confession, vid...</td>\n",
       "      <td>trump doctor make bizarre confession video don...</td>\n",
       "    </tr>\n",
       "    <tr>\n",
       "      <th>3</th>\n",
       "      <td>1</td>\n",
       "      <td>Trump presidency could cost U.S. economy $1 tr...</td>\n",
       "      <td>[trump, presidency, cost, economy, trillion, o...</td>\n",
       "      <td>trump presidency cost economy trillion oxford ...</td>\n",
       "    </tr>\n",
       "    <tr>\n",
       "      <th>4</th>\n",
       "      <td>0</td>\n",
       "      <td>Trump HUMILIATED As China Roasts Him For Bein...</td>\n",
       "      <td>[trump, humiliated, china, roast, ignorant, ch...</td>\n",
       "      <td>trump humiliated china roast ignorant child de...</td>\n",
       "    </tr>\n",
       "    <tr>\n",
       "      <th>...</th>\n",
       "      <td>...</td>\n",
       "      <td>...</td>\n",
       "      <td>...</td>\n",
       "      <td>...</td>\n",
       "    </tr>\n",
       "    <tr>\n",
       "      <th>39100</th>\n",
       "      <td>1</td>\n",
       "      <td>May, Trump agree Russia should break ties with...</td>\n",
       "      <td>[trump, agree, russia, break, tie, assad, offi...</td>\n",
       "      <td>trump agree russia break tie assad office lond...</td>\n",
       "    </tr>\n",
       "    <tr>\n",
       "      <th>39101</th>\n",
       "      <td>1</td>\n",
       "      <td>Trump says he will not negotiate on 20 percent...</td>\n",
       "      <td>[trump, say, negotiate, percent, corporate, ra...</td>\n",
       "      <td>trump say negotiate percent corporate rate was...</td>\n",
       "    </tr>\n",
       "    <tr>\n",
       "      <th>39102</th>\n",
       "      <td>1</td>\n",
       "      <td>Pressure on Trump likely to be intense at seco...</td>\n",
       "      <td>[pressure, trump, intense, debate, clinton, wa...</td>\n",
       "      <td>pressure trump intense debate clinton washingt...</td>\n",
       "    </tr>\n",
       "    <tr>\n",
       "      <th>39103</th>\n",
       "      <td>0</td>\n",
       "      <td>Military Expert Vows To Take Trump Up On His ...</td>\n",
       "      <td>[military, expert, vow, take, trump, challenge...</td>\n",
       "      <td>military expert vow take trump challenge donal...</td>\n",
       "    </tr>\n",
       "    <tr>\n",
       "      <th>39104</th>\n",
       "      <td>1</td>\n",
       "      <td>Britain's May presses Northern Ireland leaders...</td>\n",
       "      <td>[britain, press, northern, ireland, leader, re...</td>\n",
       "      <td>britain press northern ireland leader restore ...</td>\n",
       "    </tr>\n",
       "  </tbody>\n",
       "</table>\n",
       "<p>39105 rows × 4 columns</p>\n",
       "</div>"
      ],
      "text/plain": [
       "       class                                     title and text  \\\n",
       "0          0  Gerald Celente: Top 10 Trends for 2017 What ca...   \n",
       "1          0   Grey’s Anatomy Star Makes Hilarious Observati...   \n",
       "2          0   Trump’s Doctor Makes Bizarre Confession (VIDE...   \n",
       "3          1  Trump presidency could cost U.S. economy $1 tr...   \n",
       "4          0   Trump HUMILIATED As China Roasts Him For Bein...   \n",
       "...      ...                                                ...   \n",
       "39100      1  May, Trump agree Russia should break ties with...   \n",
       "39101      1  Trump says he will not negotiate on 20 percent...   \n",
       "39102      1  Pressure on Trump likely to be intense at seco...   \n",
       "39103      0   Military Expert Vows To Take Trump Up On His ...   \n",
       "39104      1  Britain's May presses Northern Ireland leaders...   \n",
       "\n",
       "                                            preprocessed  \\\n",
       "0      [gerald, celente, trend, expect, inflated, mar...   \n",
       "1      [grey, anatomy, star, make, hilarious, observa...   \n",
       "2      [trump, doctor, make, bizarre, confession, vid...   \n",
       "3      [trump, presidency, cost, economy, trillion, o...   \n",
       "4      [trump, humiliated, china, roast, ignorant, ch...   \n",
       "...                                                  ...   \n",
       "39100  [trump, agree, russia, break, tie, assad, offi...   \n",
       "39101  [trump, say, negotiate, percent, corporate, ra...   \n",
       "39102  [pressure, trump, intense, debate, clinton, wa...   \n",
       "39103  [military, expert, vow, take, trump, challenge...   \n",
       "39104  [britain, press, northern, ireland, leader, re...   \n",
       "\n",
       "                                       join_preprocessed  \n",
       "0      gerald celente trend expect inflated market in...  \n",
       "1      grey anatomy star make hilarious observation t...  \n",
       "2      trump doctor make bizarre confession video don...  \n",
       "3      trump presidency cost economy trillion oxford ...  \n",
       "4      trump humiliated china roast ignorant child de...  \n",
       "...                                                  ...  \n",
       "39100  trump agree russia break tie assad office lond...  \n",
       "39101  trump say negotiate percent corporate rate was...  \n",
       "39102  pressure trump intense debate clinton washingt...  \n",
       "39103  military expert vow take trump challenge donal...  \n",
       "39104  britain press northern ireland leader restore ...  \n",
       "\n",
       "[39105 rows x 4 columns]"
      ]
     },
     "execution_count": 24,
     "metadata": {},
     "output_type": "execute_result"
    }
   ],
   "source": [
    "data_df = data_df.sample(frac=1).reset_index(drop=True)\n",
    "data_df"
   ]
  },
  {
   "cell_type": "markdown",
   "id": "bf3b5b48",
   "metadata": {},
   "source": [
    "### Generating WordCloud for visual representation\n",
    "To create a more intuitive wordcloud, we can generate words, which may be collocations or bigrams, which has a higher frequency from the join_preprocessed column. "
   ]
  },
  {
   "cell_type": "code",
   "execution_count": 25,
   "id": "f4d5b556",
   "metadata": {},
   "outputs": [
    {
     "data": {
      "image/png": "[encoded data removed]",
      "text/plain": [
       "<Figure size 432x288 with 1 Axes>"
      ]
     },
     "metadata": {
      "needs_background": "light"
     },
     "output_type": "display_data"
    }
   ],
   "source": [
    "wc = WordCloud(max_words = 1000, \n",
    "                  stopwords = final_stop, \n",
    "                  background_color = \"white\").generate(\" \".join(data_df[data_df['class'] == 1].join_preprocessed))\n",
    "plt.imshow(wc, interpolation=\"bilinear\")\n",
    "plt.axis(\"off\")\n",
    "plt.show()"
   ]
  },
  {
   "cell_type": "markdown",
   "id": "54cd14d9",
   "metadata": {},
   "source": [
    "Here, we can see that there are 3 distinct ones: 'united state', 'donald trump' and 'white house'."
   ]
  },
  {
   "cell_type": "markdown",
   "id": "3cc3aef9",
   "metadata": {},
   "source": [
    "### Split data"
   ]
  },
  {
   "cell_type": "markdown",
   "id": "0587d12c",
   "metadata": {},
   "source": [
    "Next, before proceeding to baseline, splitting of data is performed. We specify the columns of the dataset which will be our X and y, which are the joined tokens, 'join_preprocessed', and class respectively. Then, the train_test_split method is used to split them, where the default is 25% of the whole dataset for testing and the other 75% for training. Thus, we can see in the cells below that the training set has 29328 data and test set has 9777. There is no need for shuffling the data during train_test_split as the data was already shuffled above."
   ]
  },
  {
   "cell_type": "code",
   "execution_count": 26,
   "id": "5b671632",
   "metadata": {},
   "outputs": [],
   "source": [
    "X = data_df['join_preprocessed']\n",
    "y = data_df['class']\n",
    "X_train, X_test, y_train, y_test = train_test_split(X, y)"
   ]
  },
  {
   "cell_type": "code",
   "execution_count": 27,
   "id": "55ddc1f5",
   "metadata": {},
   "outputs": [
    {
     "name": "stdout",
     "output_type": "stream",
     "text": [
      "(29328,)\n",
      "(9777,)\n",
      "(29328,)\n",
      "(9777,)\n"
     ]
    }
   ],
   "source": [
    "print(X_train.shape)\n",
    "print(X_test.shape)\n",
    "print(y_train.shape)\n",
    "print(y_test.shape)"
   ]
  },
  {
   "cell_type": "markdown",
   "id": "d789ca2b",
   "metadata": {},
   "source": [
    "### Bag of Words (BoW)"
   ]
  },
  {
   "cell_type": "markdown",
   "id": "329dce49",
   "metadata": {},
   "source": [
    "After splitting the data, we do bag of words (BoW) to convert text to numbers. BoW is \"a representation of text that describes the occurrence of words within a document.\" It presents a vocabulary of words and assigns a score of its frequency in a document. (Brownlee, 2022)\n",
    "\n",
    "BoW is performed using CountVectorizer from the sklearn library, which \"convert(s) a collection of text documents to a matrix of token counts.\" (sklearn.feature_extraction.text.CountVectorizer, 2022)\n",
    "\n",
    "Then, we fit_transform our training data to allow the vectorizer to \"learn the scaling parameters\" of the training data and transform our test data to apply the scaling to it as well. (What and why behind fit_transform() vs transform() in scikit-learn !, 2022)"
   ]
  },
  {
   "cell_type": "code",
   "execution_count": 28,
   "id": "0565ba2e",
   "metadata": {},
   "outputs": [
    {
     "data": {
      "text/plain": [
       "(29328, 88336)"
      ]
     },
     "execution_count": 28,
     "metadata": {},
     "output_type": "execute_result"
    }
   ],
   "source": [
    "# Initialise CountVectorizer\n",
    "vectorizer = CountVectorizer()\n",
    "\n",
    "# fit_transform X_train to learn the scaling parameters\n",
    "X_train_bow = vectorizer.fit_transform(X_train).toarray()\n",
    "X_train_bow.shape"
   ]
  },
  {
   "cell_type": "code",
   "execution_count": 29,
   "id": "1398480d",
   "metadata": {},
   "outputs": [
    {
     "data": {
      "text/plain": [
       "(9777, 88336)"
      ]
     },
     "execution_count": 29,
     "metadata": {},
     "output_type": "execute_result"
    }
   ],
   "source": [
    "# Transform X_test (using fitted vocabulary) into a document-term matrix\n",
    "X_test_bow = vectorizer.transform(X_test)\n",
    "X_test_bow.shape\n",
    "# The number of columns is the same as what we have learned in X_train_bow"
   ]
  },
  {
   "cell_type": "markdown",
   "id": "c229ae79",
   "metadata": {},
   "source": [
    "Now, we can proceed to define our baseline."
   ]
  },
  {
   "cell_type": "markdown",
   "id": "9cf6689e",
   "metadata": {},
   "source": [
    "## 6. Baseline performance"
   ]
  },
  {
   "cell_type": "markdown",
   "id": "6e25d3b9",
   "metadata": {},
   "source": [
    "The baseline chosen is Naive Bayes. In a research paper titled 'Comparative Study of Five Text Classification Algorithms with their Improvements', it mentioned that Naive Bayes was quick and easy to implement, so it was commonly used as a baseline in text classification. (H. Aliwy and H. Abdul Ameer, 2017)\n",
    "Naive Bayes is a \"supervised learning algorithm based on applying Bayes’ theorem with the “naive” assumption of conditional independence between every pair of features given the value of the class variable.\" More specifically, **Multinomial** Naive Bayes is selected as the baseline as it \"implements the naive Bayes algorithm for multinomially distributed data, and is one of the two classic naive Bayes variants used in text classification.\" (1.9. Naive Bayes, 2022)\n",
    "\n",
    "Training of the baseline model will be done using bag of words which was generated above. After implementing Multinomial Naive Bayes (MultinomialNB) during training and using it to predict the test data, we can evaluate the model by generating the accuracy and comparing it to the chosen classification model, which will be Random Forest."
   ]
  },
  {
   "cell_type": "markdown",
   "id": "f15a7816",
   "metadata": {},
   "source": [
    "### Multinomial Naive Bayes"
   ]
  },
  {
   "cell_type": "code",
   "execution_count": 30,
   "id": "7fa3332b",
   "metadata": {},
   "outputs": [
    {
     "name": "stdout",
     "output_type": "stream",
     "text": [
      "Testing Results:\n",
      "\n",
      "\n",
      "              precision    recall  f1-score   support\n",
      "\n",
      "           0       0.93      0.95      0.94      4503\n",
      "           1       0.95      0.94      0.95      5274\n",
      "\n",
      "    accuracy                           0.94      9777\n",
      "   macro avg       0.94      0.94      0.94      9777\n",
      "weighted avg       0.94      0.94      0.94      9777\n",
      "\n",
      "\n",
      "\n",
      "Naive Bayes Accuracy: 0.9441546486652347\n"
     ]
    }
   ],
   "source": [
    "# Instantiate MultinomialNB\n",
    "nb = MultinomialNB()\n",
    "\n",
    "# train model\n",
    "nb.fit(X_train_bow, y_train)\n",
    "\n",
    "# predict using trained model\n",
    "y_pred = nb.predict(X_test_bow)\n",
    "\n",
    "print(\"Testing Results:\")\n",
    "print(\"\\n\")\n",
    "print(classification_report(y_test, y_pred))\n",
    "print(\"\\n\")\n",
    "\n",
    "# Use accuracy_score to print out the accuracy\n",
    "acc = accuracy_score(y_test, y_pred)\n",
    "print(\"Naive Bayes Accuracy:\", acc)"
   ]
  },
  {
   "cell_type": "markdown",
   "id": "6d32baaf",
   "metadata": {},
   "source": [
    "#### Confusion Matrix for MultinomialNB"
   ]
  },
  {
   "cell_type": "code",
   "execution_count": 31,
   "id": "90261b8e",
   "metadata": {},
   "outputs": [
    {
     "data": {
      "text/plain": [
       "array([[4257,  246],\n",
       "       [ 300, 4974]])"
      ]
     },
     "execution_count": 31,
     "metadata": {},
     "output_type": "execute_result"
    }
   ],
   "source": [
    "# print confusion matrix\n",
    "confusion_matrix(y_test, y_pred)"
   ]
  },
  {
   "cell_type": "markdown",
   "id": "f7b36f12",
   "metadata": {},
   "source": [
    "## 7. Classification approach"
   ]
  },
  {
   "cell_type": "markdown",
   "id": "57a8b053",
   "metadata": {},
   "source": [
    "The features that will be used in the classifier is the title plus text of the news articles that were previously preprocessed. The labels will be the class of the news articles, either a 0 or 1, which represents fake news and real news respectively. These were selected as the aim of the classifier is to identify real and fake news depending on the content of the news articles. Thus, the subject and date data that were present in the original dataset were excluded.\n",
    "\n",
    "The approach chosen is Random Forest, which is \"an ensemble learning method for classification, regression and other tasks that operates by constructing a multitude of decision trees at training time.\" (Random forest - Wikipedia, 2022)\n",
    "\n",
    "Random forest was chosen as the classification approach as it is efficient in executing classification tasks, which aligns with our objective to classify fake/real news, and \"overcomes the problem of overfitting by averaging or combining the results of different decision trees,\" which has always been an issue in machine learning. (Great Learning Team, 2020)"
   ]
  },
  {
   "cell_type": "markdown",
   "id": "513faab4",
   "metadata": {},
   "source": [
    "### Random Forest"
   ]
  },
  {
   "cell_type": "markdown",
   "id": "d8eb9c1f",
   "metadata": {},
   "source": [
    "Firstly, we generate the bag of words, then perform TF-IDF to improve the performance of the classifier. TF-IDF solves a shortcoming of bag of words, which is that it does not consider that a specific word may have a higher frequency of occurence in other articles. Thus, TF-IDF was implemented on bag of words by multiplying the term frequency of a word to the inverse document frequency. (Understanding TF-IDF for Machine Learning | Capital One, 2022)"
   ]
  },
  {
   "cell_type": "markdown",
   "id": "355e6204",
   "metadata": {},
   "source": [
    "#### BoW"
   ]
  },
  {
   "cell_type": "code",
   "execution_count": 32,
   "id": "3621d805",
   "metadata": {},
   "outputs": [],
   "source": [
    "X = data_df['join_preprocessed']\n",
    "y = data_df['class']\n",
    "vectorizer = CountVectorizer()"
   ]
  },
  {
   "cell_type": "code",
   "execution_count": 33,
   "id": "eed74779",
   "metadata": {},
   "outputs": [
    {
     "data": {
      "text/plain": [
       "(39105, 102597)"
      ]
     },
     "execution_count": 33,
     "metadata": {},
     "output_type": "execute_result"
    }
   ],
   "source": [
    "X_bow = vectorizer.fit_transform(X).toarray()\n",
    "X_bow.shape"
   ]
  },
  {
   "cell_type": "markdown",
   "id": "8ecee248",
   "metadata": {},
   "source": [
    "#### TF-IDF from BoW"
   ]
  },
  {
   "cell_type": "code",
   "execution_count": 34,
   "id": "e23a47f9",
   "metadata": {},
   "outputs": [
    {
     "data": {
      "text/plain": [
       "(39105, 102597)"
      ]
     },
     "execution_count": 34,
     "metadata": {},
     "output_type": "execute_result"
    }
   ],
   "source": [
    "tfidfconverter = TfidfTransformer()\n",
    "X_tfidf = tfidfconverter.fit_transform(X_bow).toarray()\n",
    "X_tfidf.shape"
   ]
  },
  {
   "cell_type": "markdown",
   "id": "8a83c163",
   "metadata": {},
   "source": [
    "#### Split"
   ]
  },
  {
   "cell_type": "code",
   "execution_count": 35,
   "id": "0defcc1e",
   "metadata": {},
   "outputs": [],
   "source": [
    "X_train, X_test, y_train, y_test = train_test_split(X_tfidf, y)"
   ]
  },
  {
   "cell_type": "markdown",
   "id": "9eab25dd",
   "metadata": {},
   "source": [
    "#### Classifier"
   ]
  },
  {
   "cell_type": "code",
   "execution_count": 36,
   "id": "bb0cf225",
   "metadata": {},
   "outputs": [
    {
     "data": {
      "text/plain": [
       "RandomForestClassifier(n_estimators=128)"
      ]
     },
     "execution_count": 36,
     "metadata": {},
     "output_type": "execute_result"
    }
   ],
   "source": [
    "# instantiate Random Forest Classifier\n",
    "rf = RandomForestClassifier(n_estimators=128)\n",
    "\n",
    "# train model\n",
    "rf.fit(X_train, y_train)"
   ]
  },
  {
   "cell_type": "code",
   "execution_count": 37,
   "id": "16d33822",
   "metadata": {},
   "outputs": [
    {
     "name": "stdout",
     "output_type": "stream",
     "text": [
      "Testing Results:\n",
      "\n",
      "\n",
      "              precision    recall  f1-score   support\n",
      "\n",
      "           0       0.99      0.97      0.98      4555\n",
      "           1       0.97      0.99      0.98      5222\n",
      "\n",
      "    accuracy                           0.98      9777\n",
      "   macro avg       0.98      0.98      0.98      9777\n",
      "weighted avg       0.98      0.98      0.98      9777\n",
      "\n",
      "\n",
      "\n",
      "Random Forest Accuracy: 0.9799529508029048\n"
     ]
    }
   ],
   "source": [
    "# predict using trained model\n",
    "y_pred = rf.predict(X_test)\n",
    "\n",
    "print(\"Testing Results:\")\n",
    "print(\"\\n\")\n",
    "print(classification_report(y_test, y_pred))\n",
    "print(\"\\n\")\n",
    "\n",
    "# Use accuracy_score to print out the accuracy\n",
    "acc = accuracy_score(y_test, y_pred)\n",
    "print(\"Random Forest Accuracy:\", acc)"
   ]
  },
  {
   "cell_type": "markdown",
   "id": "9f2fe3a2",
   "metadata": {},
   "source": [
    "#### Confusion Matrix for Random Forest"
   ]
  },
  {
   "cell_type": "code",
   "execution_count": 38,
   "id": "1591cbc2",
   "metadata": {},
   "outputs": [
    {
     "data": {
      "text/plain": [
       "array([[4396,  159],\n",
       "       [  37, 5185]])"
      ]
     },
     "execution_count": 38,
     "metadata": {},
     "output_type": "execute_result"
    }
   ],
   "source": [
    "# print the confusion matrix\n",
    "confusion_matrix(y_test, y_pred)"
   ]
  },
  {
   "cell_type": "markdown",
   "id": "204173cc",
   "metadata": {},
   "source": [
    "# Conclusions"
   ]
  },
  {
   "cell_type": "markdown",
   "id": "5449ff53",
   "metadata": {},
   "source": [
    "## 9. Evaluation"
   ]
  },
  {
   "cell_type": "markdown",
   "id": "4a8c1880",
   "metadata": {},
   "source": [
    "After training and testing the baseline and the chosen classifier approach, we can evaluate them based on their accuracy. The accuracy for our baseline, MultinomialNB was 94.4%, while for our chosen classifier, Random Forest, was 98%. This shows that the Random Forest classifier performed better than the baseline MultinomialNB. This can be further reinforced if we take a look at the confusion matrix for both classifiers. For the baseline, there were more instances of False Positives and False Negatives, which constitutes inaccurate predictions, while for the classification approach, it was less than half of baseline's. \n",
    "For a more summarized statistical comparison, the total False instances (FP + FN) for baseline is 246+300 = 546, while for Random Forest it is 159+37 = 196. This comparison also coincides with how accuracy was calculated. In the definition of accuracy above, accuracy can be calculated by (TP + TN)/(TP + TN + FP + FN). As there were less False Positives and False Negatives, which meant more True Positives and True Negatives for our classification approach, this would mean a higher accuracy as compared to the baseline. Thus, we can conclude that our Random Forest classifier performed better than our baseline."
   ]
  },
  {
   "cell_type": "markdown",
   "id": "8e58dd56",
   "metadata": {},
   "source": [
    "## 10. Summary and conclusions"
   ]
  },
  {
   "cell_type": "markdown",
   "id": "dd40bd22",
   "metadata": {},
   "source": [
    "From the results generated in this project, it is very efficient in contributing to the problem area, being able to effectively classify fake and real news, as our classification approach has a high accuracy of 98%. However, due to the dataset containing articles only based on politics and world news, it may be unable to predict the genuity of articles in other fields, such as science and technology, for example. Additionally, the dataset only contains articles from 2016 to 2017, which might suggest that the classifier is less adaptive and accurate in predicting articles from other years. However, as long as there is sufficient data on articles from other years, the classifier will surely be able to perform well. This approach can be replicated by others to a certain extent. In terms of using different programming languages, there are many languages that can be used for machine learning, such as C++ and R programming. There are specific libraries for the languages as well, such as kernLab or Kernel-Based Machine Learning Lab for classification, regression, dimensionality reduction etc specifically for R programming. *(Top 12 R Packages For Machine Learning In 2020, 2022)*\n",
    "\n",
    "In terms of development environments, it can be replicated if the environment contains the programming language, in this case, Python. However, the method to execute the code may be different. Using different libraries and algorithms may have potential benefits and drawbacks, in terms of processing time and space complexity. For example, the dask package \"supports GPU acceleration\" and \"complex applications\", which is more efficient in improving processing time and space complexity compared to the current packages used. *(Dask | Scale the Python tools you love, 2022)* \n",
    "\n",
    "Alternative approaches may be referring to a different classification approach. Potential benefits could be a higher accuracy, or reduced overfitting, which will result in a model that can adapt to unseen cases. Additionally, the computational requirements may be lower, positively affecting time and space complexity. Possible drawbacks of alternative approaches could also relate to time and space complexity, depending on which approach is chosen. There is also a possibility of a lower accuracy or more overfitting. "
   ]
  },
  {
   "cell_type": "markdown",
   "id": "7de13a5f",
   "metadata": {},
   "source": [
    "# References"
   ]
  },
  {
   "cell_type": "markdown",
   "id": "9132f5d1",
   "metadata": {},
   "source": [
    "1. (University of Michigan Library Research Guides, 2022) \n",
    "University of Michigan Library Research Guides. 2022. \"Fake News,\" Lies and Propaganda: How to Sort Fact from Fiction. [online] Available at: <https://guides.lib.umich.edu/fakenews>\n",
    "\n",
    "2. (AMERICAN VIEWS: TRUST, MEDIA AND DEMOCRACY, 2018)\n",
    "Knight Foundation. 2018. AMERICAN VIEWS: TRUST, MEDIA AND DEMOCRACY. [ebook] Available at: <https://kf-site-production.s3.amazonaws.com/publications/pdfs/000/000/242/original/KnightFoundation_AmericansViews_Client_Report_010917_Final_Updated.pdf>.\n",
    "\n",
    "3. (YouGov Staff, 2017) \n",
    "YouGov Staff, 2017. 68% of APAC residents believe there is a problem with fake news on digital platforms. [online] YouGov: What the world thinks. Available at: <https://id.yougov.com/en-id/news/2017/08/21/68-apac-residents-believe-there-problem-fake-news-/> \n",
    "\n",
    "4. (Soon and Goh, 2021) \n",
    "Soon, C. and Goh, S., 2021. SINGAPOREANS’ SUSCEPTIBILITY TO FALSE INFORMATION. [ebook] Singapore: Institute of Policy Studies. Available at: <https://lkyspp.nus.edu.sg/docs/default-source/ips/ips-exchange-series-19.pdf>\n",
    "\n",
    "5. (The Age of Fake News: How fake news marred the 2020 U.S. Presidential Election : Center for Digital Society, 2021) \n",
    "Center for Digital Society. 2021. The Age of Fake News: How fake news marred the 2020 U.S. Presidential Election : Center for Digital Society. [online] Available at: <https://cfds.fisipol.ugm.ac.id/2021/12/09/the-age-of-fake-news-how-fake-news-marred-the-2020-u-s-presidential-election/> \n",
    "\n",
    "6. (Wolfe, 2022) \n",
    "Wolfe, J., 2022. Factbox: Trump's false claims debunked: the 2020 election and Jan. 6 riot. [online] Reuters. Available at: <https://www.reuters.com/world/us/trumps-false-claims-debunked-2020-election-jan-6-riot-2022-01-06/>\n",
    "\n",
    "7. (Silverman, Timberg, Kao and B. Merrill, 2022) \n",
    "Silverman, C., Timberg, C., Kao, J. and B. Merrill, J., 2022. Facebook groups topped 10,000 daily attacks on election before Jan. 6, analysis shows. [online] The Washington Post. Available at: <https://www.washingtonpost.com/technology/2022/01/04/facebook-election-misinformation-capitol-riot/>\n",
    "\n",
    "8. (Jabeen, 2018) \n",
    "Jabeen, H., 2018. Stemming and Lemmatization in Python. [online] Datacamp. Available at: <https://www.datacamp.com/tutorial/stemming-lemmatization-python>\n",
    "\n",
    "9. (H. Aliwy and H. Abdul Ameer, 2017) \n",
    "H. Aliwy, A. and H. Abdul Ameer, E., 2017. Comparative Study of Five Text Classification Algorithms with their Improvements. International Journal of Applied Engineering Research, 12(14), pp.4309-4319. Available at: <https://www.ripublication.com/ijaer17/ijaerv12n14_31.pdf>\n",
    "\n",
    "10. (H, I and S, 2018) \n",
    "H, A., I, T. and S, S., 2018. ISOT Fake News Dataset. [online] Uvic.ca. Available at: <https://www.uvic.ca/engineering/ece/isot/assets/docs/ISOT_Fake_News_Dataset_ReadMe.pdf>\n",
    "\n",
    "11. Ahmed H, Traore I, Saad S. “Detecting opinion spams and fake news using text classification”, Journal of Security and Privacy, Volume 1, Issue 1, Wiley, January/February 2018.\n",
    "\n",
    "12. Ahmed H, Traore I, Saad S. (2017) “Detection of Online Fake News Using N-Gram Analysis and Machine Learning Techniques. In: Traore I., Woungang I., Awad A. (eds) Intelligent, Secure, and Dependable Systems in Distributed and Cloud Environments. ISDDC 2017. Lecture Notes in Computer Science, vol 10618. Springer, Cham (pp. 127-138).\n",
    "\n",
    "13. (1.9. Naive Bayes, 2022) \n",
    "scikit-learn. 2022. 1.9. Naive Bayes. [online] Available at: <https://scikit-learn.org/stable/modules/naive_bayes.html>\n",
    "\n",
    "14. (Great Learning Team, 2020) \n",
    "Great Learning Team. 2020. Random forest Algorithm in Machine learning: An Overview. [online] Great Learning. Available at: <https://www.mygreatlearning.com/blog/random-forest-algorithm/> [Accessed 11 June 2022].\n",
    "\n",
    "15. (Random forest - Wikipedia, 2022) \n",
    "En.wikipedia.org. 2022. Random forest - Wikipedia. [online] Available at: <https://en.wikipedia.org/wiki/Random_forest>\n",
    "\n",
    "16. (Understanding TF-IDF for Machine Learning | Capital One, 2022) \n",
    "Capital One. 2022. Understanding TF-IDF for Machine Learning | Capital One. [online] Available at: <https://www.capitalone.com/tech/machine-learning/understanding-tf-idf/>\n",
    "\n",
    "17. (Brownlee, 2022) \n",
    "Brownlee, J., 2022. A Gentle Introduction to the Bag-of-Words Model. [online] Machine Learning Mastery. Available at: <https://machinelearningmastery.com/gentle-introduction-bag-words-model/>\n",
    "\n",
    "18. (sklearn.feature_extraction.text.CountVectorizer, 2022) \n",
    "scikit-learn. 2022. sklearn.feature_extraction.text.CountVectorizer. [online] Available at: <https://scikit-learn.org/stable/modules/generated/sklearn.feature_extraction.text.CountVectorizer.html>\n",
    "\n",
    "19. (What and why behind fit_transform() vs transform() in scikit-learn !, 2022) \n",
    "Medium. 2022. What and why behind fit_transform() vs transform() in scikit-learn !. [online] Available at: <https://towardsdatascience.com/what-and-why-behind-fit-transform-vs-transform-in-scikit-learn-78f915cf96fe>\n",
    "\n",
    "20. (Dask | Scale the Python tools you love, 2022) \n",
    "Dask.org. 2022. Dask | Scale the Python tools you love. [online] Available at: <https://www.dask.org/> [Accessed 12 June 2022].\n",
    "\n",
    "21. (Top 12 R Packages For Machine Learning In 2020, 2022) \n",
    "Analytics India Magazine. 2022. Top 12 R Packages For Machine Learning In 2020. [online] Available at: <https://analyticsindiamag.com/top-12-r-packages-for-machine-learning-in-2020/>"
   ]
  }
 ],
 "metadata": {
  "kernelspec": {
   "display_name": "Python 3 (ipykernel)",
   "language": "python",
   "name": "python3"
  },
  "language_info": {
   "codemirror_mode": {
    "name": "ipython",
    "version": 3
   },
   "file_extension": ".py",
   "mimetype": "text/x-python",
   "name": "python",
   "nbconvert_exporter": "python",
   "pygments_lexer": "ipython3",
   "version": "3.8.12"
  }
 },
 "nbformat": 4,
 "nbformat_minor": 5
}
